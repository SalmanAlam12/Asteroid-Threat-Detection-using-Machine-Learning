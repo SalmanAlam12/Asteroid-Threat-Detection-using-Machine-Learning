{
  "cells": [
    {
      "cell_type": "markdown",
      "metadata": {
        "id": "tb_CfFW_7lLn"
      },
      "source": [
        "#                     **Asteriod Threat Detection**\n",
        "\n",
        "\n",
        "\n",
        "\n",
        "---\n",
        "CSE437 Section: 01\n",
        "\n",
        "Members:\n",
        "1. Salman Alam (19301037)\n",
        "2. Atquiya Labiba Oni (19301039)\n",
        "3. Asif Mosharrof Hossain (19201006)\n",
        "4. Jubair Samir (19101571/22241149)\n",
        "---\n",
        "Dataset: https://www.kaggle.com/datasets/sameepvani/nasa-nearest-earth-objects"
      ]
    },
    {
      "cell_type": "markdown",
      "metadata": {
        "id": "U5f2Q8JEozdD"
      },
      "source": [
        "# ***Load Dataset***"
      ]
    },
    {
      "cell_type": "code",
      "execution_count": null,
      "metadata": {
        "id": "Kons4XkKJHOW"
      },
      "outputs": [],
      "source": [
        "#importing necessary libraries\n",
        "import pandas as pd\n",
        "import numpy as np\n",
        "import seaborn as sns\n",
        "from matplotlib import pyplot as plt\n",
        "\n",
        "#importing data preprocessing libraries\n",
        "from sklearn.impute import KNNImputer\n",
        "from scipy import stats\n",
        "from sklearn.preprocessing import LabelEncoder\n",
        "from sklearn.model_selection import train_test_split\n",
        "from sklearn.preprocessing import StandardScaler\n",
        "from sklearn.utils import resample\n",
        "from imblearn.over_sampling import SMOTE\n",
        "\n",
        "#import models\n",
        "from sklearn.ensemble import AdaBoostClassifier\n",
        "from sklearn.neighbors import KNeighborsClassifier\n",
        "from sklearn.naive_bayes import GaussianNB\n",
        "from sklearn.ensemble import RandomForestClassifier\n",
        "\n",
        "#importing outcome techniques\n",
        "from sklearn.metrics import confusion_matrix\n",
        "from sklearn.metrics import precision_score, recall_score, f1_score, accuracy_score\n",
        "\n",
        "#Ignore Warnings\n",
        "import warnings\n",
        "warnings.filterwarnings('ignore')"
      ]
    },
    {
      "cell_type": "code",
      "execution_count": null,
      "metadata": {
        "colab": {
          "base_uri": "https://localhost:8080/"
        },
        "id": "I9BdSyKi3wRI",
        "outputId": "377eaed0-dc78-4356-c180-f1c27f31c848"
      },
      "outputs": [
        {
          "output_type": "stream",
          "name": "stdout",
          "text": [
            "Drive already mounted at /content/drive; to attempt to forcibly remount, call drive.mount(\"/content/drive\", force_remount=True).\n"
          ]
        }
      ],
      "source": [
        "from google.colab import drive\n",
        "drive.mount(\"/content/drive\")"
      ]
    },
    {
      "cell_type": "code",
      "execution_count": null,
      "metadata": {
        "colab": {
          "base_uri": "https://localhost:8080/"
        },
        "id": "HhmjeHf0Xy0M",
        "outputId": "46136620-b139-4f81-d07e-4c1b45c85a81"
      },
      "outputs": [
        {
          "output_type": "execute_result",
          "data": {
            "text/plain": [
              "             id                 name  est_diameter_min  est_diameter_max  \\\n",
              "0       2162635  162635 (2000 SS164)          1.198271          2.679415   \n",
              "1       2277475    277475 (2005 WK4)          0.265800          0.594347   \n",
              "2       2512244   512244 (2015 YE18)          0.722030          1.614507   \n",
              "3       3596030          (2012 BV13)          0.096506          0.215794   \n",
              "4       3667127          (2014 GE35)          0.255009          0.570217   \n",
              "...         ...                  ...               ...               ...   \n",
              "90831   3763337           (2016 VX1)          0.026580          0.059435   \n",
              "90832   3837603           (2019 AD3)          0.016771          0.037501   \n",
              "90833  54017201           (2020 JP3)          0.031956          0.071456   \n",
              "90834  54115824           (2021 CN5)          0.007321          0.016370   \n",
              "90835  54205447           (2021 TW7)          0.039862          0.089133   \n",
              "\n",
              "       relative_velocity  miss_distance orbiting_body  sentry_object  \\\n",
              "0           13569.249224   5.483974e+07         Earth          False   \n",
              "1           73588.726663   6.143813e+07         Earth          False   \n",
              "2          114258.692129   4.979872e+07         Earth          False   \n",
              "3           24764.303138   2.543497e+07         Earth          False   \n",
              "4           42737.733765   4.627557e+07         Earth          False   \n",
              "...                  ...            ...           ...            ...   \n",
              "90831       52078.886692   1.230039e+07         Earth          False   \n",
              "90832       46114.605073   5.432121e+07         Earth          False   \n",
              "90833        7566.807732   2.840077e+07         Earth          False   \n",
              "90834       69199.154484   6.869206e+07         Earth          False   \n",
              "90835       27024.455553   5.977213e+07         Earth          False   \n",
              "\n",
              "       absolute_magnitude  hazardous  \n",
              "0                   16.73      False  \n",
              "1                   20.00       True  \n",
              "2                   17.83      False  \n",
              "3                   22.20      False  \n",
              "4                   20.09       True  \n",
              "...                   ...        ...  \n",
              "90831               25.00      False  \n",
              "90832               26.00      False  \n",
              "90833               24.60      False  \n",
              "90834               27.80      False  \n",
              "90835               24.12      False  \n",
              "\n",
              "[90836 rows x 10 columns]"
            ],
            "text/html": [
              "\n",
              "  <div id=\"df-bdf43edc-6158-4496-ba8e-4448f744af06\">\n",
              "    <div class=\"colab-df-container\">\n",
              "      <div>\n",
              "<style scoped>\n",
              "    .dataframe tbody tr th:only-of-type {\n",
              "        vertical-align: middle;\n",
              "    }\n",
              "\n",
              "    .dataframe tbody tr th {\n",
              "        vertical-align: top;\n",
              "    }\n",
              "\n",
              "    .dataframe thead th {\n",
              "        text-align: right;\n",
              "    }\n",
              "</style>\n",
              "<table border=\"1\" class=\"dataframe\">\n",
              "  <thead>\n",
              "    <tr style=\"text-align: right;\">\n",
              "      <th></th>\n",
              "      <th>id</th>\n",
              "      <th>name</th>\n",
              "      <th>est_diameter_min</th>\n",
              "      <th>est_diameter_max</th>\n",
              "      <th>relative_velocity</th>\n",
              "      <th>miss_distance</th>\n",
              "      <th>orbiting_body</th>\n",
              "      <th>sentry_object</th>\n",
              "      <th>absolute_magnitude</th>\n",
              "      <th>hazardous</th>\n",
              "    </tr>\n",
              "  </thead>\n",
              "  <tbody>\n",
              "    <tr>\n",
              "      <th>0</th>\n",
              "      <td>2162635</td>\n",
              "      <td>162635 (2000 SS164)</td>\n",
              "      <td>1.198271</td>\n",
              "      <td>2.679415</td>\n",
              "      <td>13569.249224</td>\n",
              "      <td>5.483974e+07</td>\n",
              "      <td>Earth</td>\n",
              "      <td>False</td>\n",
              "      <td>16.73</td>\n",
              "      <td>False</td>\n",
              "    </tr>\n",
              "    <tr>\n",
              "      <th>1</th>\n",
              "      <td>2277475</td>\n",
              "      <td>277475 (2005 WK4)</td>\n",
              "      <td>0.265800</td>\n",
              "      <td>0.594347</td>\n",
              "      <td>73588.726663</td>\n",
              "      <td>6.143813e+07</td>\n",
              "      <td>Earth</td>\n",
              "      <td>False</td>\n",
              "      <td>20.00</td>\n",
              "      <td>True</td>\n",
              "    </tr>\n",
              "    <tr>\n",
              "      <th>2</th>\n",
              "      <td>2512244</td>\n",
              "      <td>512244 (2015 YE18)</td>\n",
              "      <td>0.722030</td>\n",
              "      <td>1.614507</td>\n",
              "      <td>114258.692129</td>\n",
              "      <td>4.979872e+07</td>\n",
              "      <td>Earth</td>\n",
              "      <td>False</td>\n",
              "      <td>17.83</td>\n",
              "      <td>False</td>\n",
              "    </tr>\n",
              "    <tr>\n",
              "      <th>3</th>\n",
              "      <td>3596030</td>\n",
              "      <td>(2012 BV13)</td>\n",
              "      <td>0.096506</td>\n",
              "      <td>0.215794</td>\n",
              "      <td>24764.303138</td>\n",
              "      <td>2.543497e+07</td>\n",
              "      <td>Earth</td>\n",
              "      <td>False</td>\n",
              "      <td>22.20</td>\n",
              "      <td>False</td>\n",
              "    </tr>\n",
              "    <tr>\n",
              "      <th>4</th>\n",
              "      <td>3667127</td>\n",
              "      <td>(2014 GE35)</td>\n",
              "      <td>0.255009</td>\n",
              "      <td>0.570217</td>\n",
              "      <td>42737.733765</td>\n",
              "      <td>4.627557e+07</td>\n",
              "      <td>Earth</td>\n",
              "      <td>False</td>\n",
              "      <td>20.09</td>\n",
              "      <td>True</td>\n",
              "    </tr>\n",
              "    <tr>\n",
              "      <th>...</th>\n",
              "      <td>...</td>\n",
              "      <td>...</td>\n",
              "      <td>...</td>\n",
              "      <td>...</td>\n",
              "      <td>...</td>\n",
              "      <td>...</td>\n",
              "      <td>...</td>\n",
              "      <td>...</td>\n",
              "      <td>...</td>\n",
              "      <td>...</td>\n",
              "    </tr>\n",
              "    <tr>\n",
              "      <th>90831</th>\n",
              "      <td>3763337</td>\n",
              "      <td>(2016 VX1)</td>\n",
              "      <td>0.026580</td>\n",
              "      <td>0.059435</td>\n",
              "      <td>52078.886692</td>\n",
              "      <td>1.230039e+07</td>\n",
              "      <td>Earth</td>\n",
              "      <td>False</td>\n",
              "      <td>25.00</td>\n",
              "      <td>False</td>\n",
              "    </tr>\n",
              "    <tr>\n",
              "      <th>90832</th>\n",
              "      <td>3837603</td>\n",
              "      <td>(2019 AD3)</td>\n",
              "      <td>0.016771</td>\n",
              "      <td>0.037501</td>\n",
              "      <td>46114.605073</td>\n",
              "      <td>5.432121e+07</td>\n",
              "      <td>Earth</td>\n",
              "      <td>False</td>\n",
              "      <td>26.00</td>\n",
              "      <td>False</td>\n",
              "    </tr>\n",
              "    <tr>\n",
              "      <th>90833</th>\n",
              "      <td>54017201</td>\n",
              "      <td>(2020 JP3)</td>\n",
              "      <td>0.031956</td>\n",
              "      <td>0.071456</td>\n",
              "      <td>7566.807732</td>\n",
              "      <td>2.840077e+07</td>\n",
              "      <td>Earth</td>\n",
              "      <td>False</td>\n",
              "      <td>24.60</td>\n",
              "      <td>False</td>\n",
              "    </tr>\n",
              "    <tr>\n",
              "      <th>90834</th>\n",
              "      <td>54115824</td>\n",
              "      <td>(2021 CN5)</td>\n",
              "      <td>0.007321</td>\n",
              "      <td>0.016370</td>\n",
              "      <td>69199.154484</td>\n",
              "      <td>6.869206e+07</td>\n",
              "      <td>Earth</td>\n",
              "      <td>False</td>\n",
              "      <td>27.80</td>\n",
              "      <td>False</td>\n",
              "    </tr>\n",
              "    <tr>\n",
              "      <th>90835</th>\n",
              "      <td>54205447</td>\n",
              "      <td>(2021 TW7)</td>\n",
              "      <td>0.039862</td>\n",
              "      <td>0.089133</td>\n",
              "      <td>27024.455553</td>\n",
              "      <td>5.977213e+07</td>\n",
              "      <td>Earth</td>\n",
              "      <td>False</td>\n",
              "      <td>24.12</td>\n",
              "      <td>False</td>\n",
              "    </tr>\n",
              "  </tbody>\n",
              "</table>\n",
              "<p>90836 rows × 10 columns</p>\n",
              "</div>\n",
              "      <button class=\"colab-df-convert\" onclick=\"convertToInteractive('df-bdf43edc-6158-4496-ba8e-4448f744af06')\"\n",
              "              title=\"Convert this dataframe to an interactive table.\"\n",
              "              style=\"display:none;\">\n",
              "        \n",
              "  <svg xmlns=\"http://www.w3.org/2000/svg\" height=\"24px\"viewBox=\"0 0 24 24\"\n",
              "       width=\"24px\">\n",
              "    <path d=\"M0 0h24v24H0V0z\" fill=\"none\"/>\n",
              "    <path d=\"M18.56 5.44l.94 2.06.94-2.06 2.06-.94-2.06-.94-.94-2.06-.94 2.06-2.06.94zm-11 1L8.5 8.5l.94-2.06 2.06-.94-2.06-.94L8.5 2.5l-.94 2.06-2.06.94zm10 10l.94 2.06.94-2.06 2.06-.94-2.06-.94-.94-2.06-.94 2.06-2.06.94z\"/><path d=\"M17.41 7.96l-1.37-1.37c-.4-.4-.92-.59-1.43-.59-.52 0-1.04.2-1.43.59L10.3 9.45l-7.72 7.72c-.78.78-.78 2.05 0 2.83L4 21.41c.39.39.9.59 1.41.59.51 0 1.02-.2 1.41-.59l7.78-7.78 2.81-2.81c.8-.78.8-2.07 0-2.86zM5.41 20L4 18.59l7.72-7.72 1.47 1.35L5.41 20z\"/>\n",
              "  </svg>\n",
              "      </button>\n",
              "      \n",
              "  <style>\n",
              "    .colab-df-container {\n",
              "      display:flex;\n",
              "      flex-wrap:wrap;\n",
              "      gap: 12px;\n",
              "    }\n",
              "\n",
              "    .colab-df-convert {\n",
              "      background-color: #E8F0FE;\n",
              "      border: none;\n",
              "      border-radius: 50%;\n",
              "      cursor: pointer;\n",
              "      display: none;\n",
              "      fill: #1967D2;\n",
              "      height: 32px;\n",
              "      padding: 0 0 0 0;\n",
              "      width: 32px;\n",
              "    }\n",
              "\n",
              "    .colab-df-convert:hover {\n",
              "      background-color: #E2EBFA;\n",
              "      box-shadow: 0px 1px 2px rgba(60, 64, 67, 0.3), 0px 1px 3px 1px rgba(60, 64, 67, 0.15);\n",
              "      fill: #174EA6;\n",
              "    }\n",
              "\n",
              "    [theme=dark] .colab-df-convert {\n",
              "      background-color: #3B4455;\n",
              "      fill: #D2E3FC;\n",
              "    }\n",
              "\n",
              "    [theme=dark] .colab-df-convert:hover {\n",
              "      background-color: #434B5C;\n",
              "      box-shadow: 0px 1px 3px 1px rgba(0, 0, 0, 0.15);\n",
              "      filter: drop-shadow(0px 1px 2px rgba(0, 0, 0, 0.3));\n",
              "      fill: #FFFFFF;\n",
              "    }\n",
              "  </style>\n",
              "\n",
              "      <script>\n",
              "        const buttonEl =\n",
              "          document.querySelector('#df-bdf43edc-6158-4496-ba8e-4448f744af06 button.colab-df-convert');\n",
              "        buttonEl.style.display =\n",
              "          google.colab.kernel.accessAllowed ? 'block' : 'none';\n",
              "\n",
              "        async function convertToInteractive(key) {\n",
              "          const element = document.querySelector('#df-bdf43edc-6158-4496-ba8e-4448f744af06');\n",
              "          const dataTable =\n",
              "            await google.colab.kernel.invokeFunction('convertToInteractive',\n",
              "                                                     [key], {});\n",
              "          if (!dataTable) return;\n",
              "\n",
              "          const docLinkHtml = 'Like what you see? Visit the ' +\n",
              "            '<a target=\"_blank\" href=https://colab.research.google.com/notebooks/data_table.ipynb>data table notebook</a>'\n",
              "            + ' to learn more about interactive tables.';\n",
              "          element.innerHTML = '';\n",
              "          dataTable['output_type'] = 'display_data';\n",
              "          await google.colab.output.renderOutput(dataTable, element);\n",
              "          const docLink = document.createElement('div');\n",
              "          docLink.innerHTML = docLinkHtml;\n",
              "          element.appendChild(docLink);\n",
              "        }\n",
              "      </script>\n",
              "    </div>\n",
              "  </div>\n",
              "  "
            ]
          },
          "metadata": {},
          "execution_count": 138
        }
      ],
      "source": [
        "asteriod = pd.read_csv('/content/drive/MyDrive/CSE437_Project/neo.csv')\n",
        "asteriod"
      ]
    },
    {
      "cell_type": "markdown",
      "metadata": {
        "id": "kBrgmmWdnWBT"
      },
      "source": [
        "# ***Data Visualization & Analysis***"
      ]
    },
    {
      "cell_type": "code",
      "execution_count": null,
      "metadata": {
        "id": "Ow47dE-YY3iL",
        "colab": {
          "base_uri": "https://localhost:8080/"
        },
        "outputId": "bc656085-8dae-49f9-bad7-f335e32a063b"
      },
      "outputs": [
        {
          "output_type": "execute_result",
          "data": {
            "text/plain": [
              "(90836, 10)"
            ]
          },
          "metadata": {},
          "execution_count": 139
        }
      ],
      "source": [
        "asteriod.shape\n",
        "# Columns: 10\n",
        "# Rows: 90836"
      ]
    },
    {
      "cell_type": "markdown",
      "metadata": {
        "id": "_J3tiuW8-QK8"
      },
      "source": [
        "### Handle Null values"
      ]
    },
    {
      "cell_type": "code",
      "execution_count": null,
      "metadata": {
        "id": "ohAxgpcK-WFf",
        "colab": {
          "base_uri": "https://localhost:8080/"
        },
        "outputId": "80b6f4bf-3b39-40c6-ced7-bc82e392280d"
      },
      "outputs": [
        {
          "output_type": "execute_result",
          "data": {
            "text/plain": [
              "id                    0\n",
              "name                  0\n",
              "est_diameter_min      0\n",
              "est_diameter_max      0\n",
              "relative_velocity     0\n",
              "miss_distance         0\n",
              "orbiting_body         0\n",
              "sentry_object         0\n",
              "absolute_magnitude    0\n",
              "hazardous             0\n",
              "dtype: int64"
            ]
          },
          "metadata": {},
          "execution_count": 140
        }
      ],
      "source": [
        "asteriod.isnull().sum()\n",
        "#No missing values to handle"
      ]
    },
    {
      "cell_type": "markdown",
      "metadata": {
        "id": "V98fZGgEonTU"
      },
      "source": [
        "### Dist-Plot"
      ]
    },
    {
      "cell_type": "code",
      "execution_count": null,
      "metadata": {
        "id": "DvmUyqTRou0T",
        "colab": {
          "base_uri": "https://localhost:8080/"
        },
        "outputId": "2dd4e859-d02c-4b06-e7bb-595484eb2b8d"
      },
      "outputs": [
        {
          "output_type": "execute_result",
          "data": {
            "text/plain": [
              "Index(['id', 'est_diameter_min', 'est_diameter_max', 'relative_velocity',\n",
              "       'miss_distance', 'absolute_magnitude'],\n",
              "      dtype='object')"
            ]
          },
          "metadata": {},
          "execution_count": 141
        }
      ],
      "source": [
        "# The columns with numerical values\n",
        "asteriod.select_dtypes(include=np.number).columns"
      ]
    },
    {
      "cell_type": "code",
      "execution_count": null,
      "metadata": {
        "id": "psunMylDpHP7",
        "colab": {
          "base_uri": "https://localhost:8080/"
        },
        "outputId": "25553860-706a-4178-9225-6f995b946e03"
      },
      "outputs": [
        {
          "output_type": "display_data",
          "data": {
            "text/plain": [
              "<Figure size 864x432 with 5 Axes>"
            ],
            "image/png": "[encoded data removed]"
          },
          "metadata": {}
        }
      ],
      "source": [
        "distPlotColumns=['est_diameter_min', 'est_diameter_max', 'relative_velocity',\n",
        "       'miss_distance', 'absolute_magnitude']\n",
        "\n",
        "rows=3\n",
        "cols=2\n",
        "counter=1\n",
        "plt.rcParams['figure.figsize']=[12,6]\n",
        "for i in distPlotColumns:\n",
        "    plt.subplot(rows,cols,counter)\n",
        "    sns.distplot(asteriod[i])\n",
        "    counter+=1\n",
        "plt.tight_layout()\n",
        "plt.show()"
      ]
    },
    {
      "cell_type": "markdown",
      "metadata": {
        "id": "SwTzcfZHq2fD"
      },
      "source": [
        "Deductions:\n",
        "\n",
        "*   Follows Gaussian distribution\n",
        "*   so, standard scaler is better\n",
        "*   High skewness in est_diameter_min and est_diameter_max\n",
        "\n",
        "\n",
        "\n",
        "\n",
        "\n"
      ]
    },
    {
      "cell_type": "markdown",
      "metadata": {
        "id": "2_cFlWoi00kF"
      },
      "source": [
        "### Box-Plot"
      ]
    },
    {
      "cell_type": "code",
      "execution_count": null,
      "metadata": {
        "id": "wcPNFDLJ03ip",
        "colab": {
          "base_uri": "https://localhost:8080/"
        },
        "outputId": "433a99fe-0661-484a-9f7a-bc614b4516ae"
      },
      "outputs": [
        {
          "output_type": "display_data",
          "data": {
            "text/plain": [
              "<Figure size 936x1296 with 5 Axes>"
            ],
            "image/png": "[encoded data removed]"
          },
          "metadata": {}
        }
      ],
      "source": [
        "boxPlotColumns=['est_diameter_min', 'est_diameter_max', 'relative_velocity',\n",
        "       'miss_distance', 'absolute_magnitude']\n",
        "\n",
        "rows=3\n",
        "cols=2\n",
        "counter=1\n",
        "plt.rcParams['figure.figsize']=[13, 18]\n",
        "sns.set(style=\"whitegrid\")\n",
        "sns.set_palette(\"Set1\")\n",
        "\n",
        "for i in boxPlotColumns:\n",
        "    plt.subplot(rows,cols,counter)\n",
        "    sns.boxplot(data=asteriod, x='hazardous', y=asteriod[i])\n",
        "    counter+=1\n",
        "plt.tight_layout()\n",
        "plt.show()"
      ]
    },
    {
      "cell_type": "markdown",
      "source": [
        "Deductions:\n",
        "\n",
        "\n",
        "*  Need to remove outliers\n",
        "\n"
      ],
      "metadata": {
        "id": "jE1if9zPwN_H"
      }
    },
    {
      "cell_type": "markdown",
      "metadata": {
        "id": "jAiyC0-33jF-"
      },
      "source": [
        "### Count-Plot"
      ]
    },
    {
      "cell_type": "code",
      "execution_count": null,
      "metadata": {
        "id": "zXdam0yu3lJW",
        "colab": {
          "base_uri": "https://localhost:8080/"
        },
        "outputId": "e8e50abd-eb95-47ad-d478-7934abc9bc7b"
      },
      "outputs": [
        {
          "output_type": "display_data",
          "data": {
            "text/plain": [
              "<Figure size 576x432 with 2 Axes>"
            ],
            "image/png": "[encoded data removed]"
          },
          "metadata": {}
        }
      ],
      "source": [
        "countPlotColumns=['orbiting_body','sentry_object']\n",
        "\n",
        "rows=1\n",
        "cols=2\n",
        "counter=1\n",
        "plt.rcParams['figure.figsize']=[8,6]\n",
        "for i in countPlotColumns:\n",
        "    plt.subplot(rows,cols,counter)\n",
        "    sns.countplot(asteriod[i])\n",
        "    counter+=1\n",
        "plt.tight_layout()\n",
        "plt.show()"
      ]
    },
    {
      "cell_type": "markdown",
      "source": [
        "Deductions:\n",
        "\n",
        "\n",
        "*   Only 1 unique value in these columns\n",
        "*   No impact on the label\n",
        "*   Can be dropped\n",
        "\n",
        "\n",
        "\n"
      ],
      "metadata": {
        "id": "Su9z7ixjwhZn"
      }
    },
    {
      "cell_type": "markdown",
      "metadata": {
        "id": "txzVCYstsJgz"
      },
      "source": [
        "### Data Imbalance"
      ]
    },
    {
      "cell_type": "code",
      "execution_count": null,
      "metadata": {
        "id": "G77kds1CsNG7",
        "colab": {
          "base_uri": "https://localhost:8080/"
        },
        "outputId": "fd3d68bb-56f5-4165-840c-cc5c4554ff20"
      },
      "outputs": [
        {
          "output_type": "display_data",
          "data": {
            "text/plain": [
              "<Figure size 576x432 with 1 Axes>"
            ],
            "image/png": "[encoded data removed]"
          },
          "metadata": {}
        }
      ],
      "source": [
        "sns.countplot(x='hazardous',data=asteriod)\n",
        "plt.show()"
      ]
    },
    {
      "cell_type": "markdown",
      "metadata": {
        "id": "c-OIU6UMslhD"
      },
      "source": [
        "### Heat Map"
      ]
    },
    {
      "cell_type": "code",
      "execution_count": null,
      "metadata": {
        "id": "-AnVoKVTsqlD",
        "colab": {
          "base_uri": "https://localhost:8080/"
        },
        "outputId": "1bf5e2bc-274b-4e1a-e0a0-721f7d205022"
      },
      "outputs": [
        {
          "output_type": "execute_result",
          "data": {
            "text/plain": [
              "                          id  est_diameter_min  est_diameter_max  \\\n",
              "id                  1.000000         -0.148322         -0.148322   \n",
              "est_diameter_min   -0.148322          1.000000          1.000000   \n",
              "est_diameter_max   -0.148322          1.000000          1.000000   \n",
              "relative_velocity  -0.059176          0.221553          0.221553   \n",
              "miss_distance      -0.056510          0.142241          0.142241   \n",
              "sentry_object            NaN               NaN               NaN   \n",
              "absolute_magnitude  0.277258         -0.560188         -0.560188   \n",
              "hazardous          -0.123443          0.183363          0.183363   \n",
              "\n",
              "                    relative_velocity  miss_distance  sentry_object  \\\n",
              "id                          -0.059176      -0.056510            NaN   \n",
              "est_diameter_min             0.221553       0.142241            NaN   \n",
              "est_diameter_max             0.221553       0.142241            NaN   \n",
              "relative_velocity            1.000000       0.327169            NaN   \n",
              "miss_distance                0.327169       1.000000            NaN   \n",
              "sentry_object                     NaN            NaN            NaN   \n",
              "absolute_magnitude          -0.353863      -0.264168            NaN   \n",
              "hazardous                    0.191185       0.042302            NaN   \n",
              "\n",
              "                    absolute_magnitude  hazardous  \n",
              "id                            0.277258  -0.123443  \n",
              "est_diameter_min             -0.560188   0.183363  \n",
              "est_diameter_max             -0.560188   0.183363  \n",
              "relative_velocity            -0.353863   0.191185  \n",
              "miss_distance                -0.264168   0.042302  \n",
              "sentry_object                      NaN        NaN  \n",
              "absolute_magnitude            1.000000  -0.365267  \n",
              "hazardous                    -0.365267   1.000000  "
            ],
            "text/html": [
              "\n",
              "  <div id=\"df-754bbdad-ab38-448b-9d98-f57b02cc4754\">\n",
              "    <div class=\"colab-df-container\">\n",
              "      <div>\n",
              "<style scoped>\n",
              "    .dataframe tbody tr th:only-of-type {\n",
              "        vertical-align: middle;\n",
              "    }\n",
              "\n",
              "    .dataframe tbody tr th {\n",
              "        vertical-align: top;\n",
              "    }\n",
              "\n",
              "    .dataframe thead th {\n",
              "        text-align: right;\n",
              "    }\n",
              "</style>\n",
              "<table border=\"1\" class=\"dataframe\">\n",
              "  <thead>\n",
              "    <tr style=\"text-align: right;\">\n",
              "      <th></th>\n",
              "      <th>id</th>\n",
              "      <th>est_diameter_min</th>\n",
              "      <th>est_diameter_max</th>\n",
              "      <th>relative_velocity</th>\n",
              "      <th>miss_distance</th>\n",
              "      <th>sentry_object</th>\n",
              "      <th>absolute_magnitude</th>\n",
              "      <th>hazardous</th>\n",
              "    </tr>\n",
              "  </thead>\n",
              "  <tbody>\n",
              "    <tr>\n",
              "      <th>id</th>\n",
              "      <td>1.000000</td>\n",
              "      <td>-0.148322</td>\n",
              "      <td>-0.148322</td>\n",
              "      <td>-0.059176</td>\n",
              "      <td>-0.056510</td>\n",
              "      <td>NaN</td>\n",
              "      <td>0.277258</td>\n",
              "      <td>-0.123443</td>\n",
              "    </tr>\n",
              "    <tr>\n",
              "      <th>est_diameter_min</th>\n",
              "      <td>-0.148322</td>\n",
              "      <td>1.000000</td>\n",
              "      <td>1.000000</td>\n",
              "      <td>0.221553</td>\n",
              "      <td>0.142241</td>\n",
              "      <td>NaN</td>\n",
              "      <td>-0.560188</td>\n",
              "      <td>0.183363</td>\n",
              "    </tr>\n",
              "    <tr>\n",
              "      <th>est_diameter_max</th>\n",
              "      <td>-0.148322</td>\n",
              "      <td>1.000000</td>\n",
              "      <td>1.000000</td>\n",
              "      <td>0.221553</td>\n",
              "      <td>0.142241</td>\n",
              "      <td>NaN</td>\n",
              "      <td>-0.560188</td>\n",
              "      <td>0.183363</td>\n",
              "    </tr>\n",
              "    <tr>\n",
              "      <th>relative_velocity</th>\n",
              "      <td>-0.059176</td>\n",
              "      <td>0.221553</td>\n",
              "      <td>0.221553</td>\n",
              "      <td>1.000000</td>\n",
              "      <td>0.327169</td>\n",
              "      <td>NaN</td>\n",
              "      <td>-0.353863</td>\n",
              "      <td>0.191185</td>\n",
              "    </tr>\n",
              "    <tr>\n",
              "      <th>miss_distance</th>\n",
              "      <td>-0.056510</td>\n",
              "      <td>0.142241</td>\n",
              "      <td>0.142241</td>\n",
              "      <td>0.327169</td>\n",
              "      <td>1.000000</td>\n",
              "      <td>NaN</td>\n",
              "      <td>-0.264168</td>\n",
              "      <td>0.042302</td>\n",
              "    </tr>\n",
              "    <tr>\n",
              "      <th>sentry_object</th>\n",
              "      <td>NaN</td>\n",
              "      <td>NaN</td>\n",
              "      <td>NaN</td>\n",
              "      <td>NaN</td>\n",
              "      <td>NaN</td>\n",
              "      <td>NaN</td>\n",
              "      <td>NaN</td>\n",
              "      <td>NaN</td>\n",
              "    </tr>\n",
              "    <tr>\n",
              "      <th>absolute_magnitude</th>\n",
              "      <td>0.277258</td>\n",
              "      <td>-0.560188</td>\n",
              "      <td>-0.560188</td>\n",
              "      <td>-0.353863</td>\n",
              "      <td>-0.264168</td>\n",
              "      <td>NaN</td>\n",
              "      <td>1.000000</td>\n",
              "      <td>-0.365267</td>\n",
              "    </tr>\n",
              "    <tr>\n",
              "      <th>hazardous</th>\n",
              "      <td>-0.123443</td>\n",
              "      <td>0.183363</td>\n",
              "      <td>0.183363</td>\n",
              "      <td>0.191185</td>\n",
              "      <td>0.042302</td>\n",
              "      <td>NaN</td>\n",
              "      <td>-0.365267</td>\n",
              "      <td>1.000000</td>\n",
              "    </tr>\n",
              "  </tbody>\n",
              "</table>\n",
              "</div>\n",
              "      <button class=\"colab-df-convert\" onclick=\"convertToInteractive('df-754bbdad-ab38-448b-9d98-f57b02cc4754')\"\n",
              "              title=\"Convert this dataframe to an interactive table.\"\n",
              "              style=\"display:none;\">\n",
              "        \n",
              "  <svg xmlns=\"http://www.w3.org/2000/svg\" height=\"24px\"viewBox=\"0 0 24 24\"\n",
              "       width=\"24px\">\n",
              "    <path d=\"M0 0h24v24H0V0z\" fill=\"none\"/>\n",
              "    <path d=\"M18.56 5.44l.94 2.06.94-2.06 2.06-.94-2.06-.94-.94-2.06-.94 2.06-2.06.94zm-11 1L8.5 8.5l.94-2.06 2.06-.94-2.06-.94L8.5 2.5l-.94 2.06-2.06.94zm10 10l.94 2.06.94-2.06 2.06-.94-2.06-.94-.94-2.06-.94 2.06-2.06.94z\"/><path d=\"M17.41 7.96l-1.37-1.37c-.4-.4-.92-.59-1.43-.59-.52 0-1.04.2-1.43.59L10.3 9.45l-7.72 7.72c-.78.78-.78 2.05 0 2.83L4 21.41c.39.39.9.59 1.41.59.51 0 1.02-.2 1.41-.59l7.78-7.78 2.81-2.81c.8-.78.8-2.07 0-2.86zM5.41 20L4 18.59l7.72-7.72 1.47 1.35L5.41 20z\"/>\n",
              "  </svg>\n",
              "      </button>\n",
              "      \n",
              "  <style>\n",
              "    .colab-df-container {\n",
              "      display:flex;\n",
              "      flex-wrap:wrap;\n",
              "      gap: 12px;\n",
              "    }\n",
              "\n",
              "    .colab-df-convert {\n",
              "      background-color: #E8F0FE;\n",
              "      border: none;\n",
              "      border-radius: 50%;\n",
              "      cursor: pointer;\n",
              "      display: none;\n",
              "      fill: #1967D2;\n",
              "      height: 32px;\n",
              "      padding: 0 0 0 0;\n",
              "      width: 32px;\n",
              "    }\n",
              "\n",
              "    .colab-df-convert:hover {\n",
              "      background-color: #E2EBFA;\n",
              "      box-shadow: 0px 1px 2px rgba(60, 64, 67, 0.3), 0px 1px 3px 1px rgba(60, 64, 67, 0.15);\n",
              "      fill: #174EA6;\n",
              "    }\n",
              "\n",
              "    [theme=dark] .colab-df-convert {\n",
              "      background-color: #3B4455;\n",
              "      fill: #D2E3FC;\n",
              "    }\n",
              "\n",
              "    [theme=dark] .colab-df-convert:hover {\n",
              "      background-color: #434B5C;\n",
              "      box-shadow: 0px 1px 3px 1px rgba(0, 0, 0, 0.15);\n",
              "      filter: drop-shadow(0px 1px 2px rgba(0, 0, 0, 0.3));\n",
              "      fill: #FFFFFF;\n",
              "    }\n",
              "  </style>\n",
              "\n",
              "      <script>\n",
              "        const buttonEl =\n",
              "          document.querySelector('#df-754bbdad-ab38-448b-9d98-f57b02cc4754 button.colab-df-convert');\n",
              "        buttonEl.style.display =\n",
              "          google.colab.kernel.accessAllowed ? 'block' : 'none';\n",
              "\n",
              "        async function convertToInteractive(key) {\n",
              "          const element = document.querySelector('#df-754bbdad-ab38-448b-9d98-f57b02cc4754');\n",
              "          const dataTable =\n",
              "            await google.colab.kernel.invokeFunction('convertToInteractive',\n",
              "                                                     [key], {});\n",
              "          if (!dataTable) return;\n",
              "\n",
              "          const docLinkHtml = 'Like what you see? Visit the ' +\n",
              "            '<a target=\"_blank\" href=https://colab.research.google.com/notebooks/data_table.ipynb>data table notebook</a>'\n",
              "            + ' to learn more about interactive tables.';\n",
              "          element.innerHTML = '';\n",
              "          dataTable['output_type'] = 'display_data';\n",
              "          await google.colab.output.renderOutput(dataTable, element);\n",
              "          const docLink = document.createElement('div');\n",
              "          docLink.innerHTML = docLinkHtml;\n",
              "          element.appendChild(docLink);\n",
              "        }\n",
              "      </script>\n",
              "    </div>\n",
              "  </div>\n",
              "  "
            ]
          },
          "metadata": {},
          "execution_count": 146
        }
      ],
      "source": [
        "asteriod.corr()"
      ]
    },
    {
      "cell_type": "code",
      "execution_count": null,
      "metadata": {
        "id": "KOp9-QjKs3ps",
        "colab": {
          "base_uri": "https://localhost:8080/"
        },
        "outputId": "6c4d9444-d0ed-4d8e-e60e-368e600e559c"
      },
      "outputs": [
        {
          "output_type": "display_data",
          "data": {
            "text/plain": [
              "<Figure size 576x432 with 2 Axes>"
            ],
            "image/png": "[encoded data removed]"
          },
          "metadata": {}
        }
      ],
      "source": [
        "sns.heatmap(asteriod.corr(),cmap='RdPu')\n",
        "plt.show()"
      ]
    },
    {
      "cell_type": "markdown",
      "metadata": {
        "id": "7WpqpxJevZ6L"
      },
      "source": [
        "# ***Data Pre-processing***"
      ]
    },
    {
      "cell_type": "markdown",
      "metadata": {
        "id": "H-PQpjM1vgFT"
      },
      "source": [
        "### Drop Columns"
      ]
    },
    {
      "cell_type": "code",
      "execution_count": null,
      "metadata": {
        "id": "xDniBG2bvrTz",
        "colab": {
          "base_uri": "https://localhost:8080/"
        },
        "outputId": "6aecf000-327f-40fe-c2ac-1f52206b109c"
      },
      "outputs": [
        {
          "output_type": "execute_result",
          "data": {
            "text/plain": [
              "       est_diameter_min  est_diameter_max  relative_velocity  miss_distance  \\\n",
              "0              1.198271          2.679415       13569.249224   5.483974e+07   \n",
              "1              0.265800          0.594347       73588.726663   6.143813e+07   \n",
              "2              0.722030          1.614507      114258.692129   4.979872e+07   \n",
              "3              0.096506          0.215794       24764.303138   2.543497e+07   \n",
              "4              0.255009          0.570217       42737.733765   4.627557e+07   \n",
              "...                 ...               ...                ...            ...   \n",
              "90831          0.026580          0.059435       52078.886692   1.230039e+07   \n",
              "90832          0.016771          0.037501       46114.605073   5.432121e+07   \n",
              "90833          0.031956          0.071456        7566.807732   2.840077e+07   \n",
              "90834          0.007321          0.016370       69199.154484   6.869206e+07   \n",
              "90835          0.039862          0.089133       27024.455553   5.977213e+07   \n",
              "\n",
              "       absolute_magnitude  hazardous  \n",
              "0                   16.73      False  \n",
              "1                   20.00       True  \n",
              "2                   17.83      False  \n",
              "3                   22.20      False  \n",
              "4                   20.09       True  \n",
              "...                   ...        ...  \n",
              "90831               25.00      False  \n",
              "90832               26.00      False  \n",
              "90833               24.60      False  \n",
              "90834               27.80      False  \n",
              "90835               24.12      False  \n",
              "\n",
              "[90836 rows x 6 columns]"
            ],
            "text/html": [
              "\n",
              "  <div id=\"df-39a24f9d-24f5-4c8f-896f-e790bc6b2c80\">\n",
              "    <div class=\"colab-df-container\">\n",
              "      <div>\n",
              "<style scoped>\n",
              "    .dataframe tbody tr th:only-of-type {\n",
              "        vertical-align: middle;\n",
              "    }\n",
              "\n",
              "    .dataframe tbody tr th {\n",
              "        vertical-align: top;\n",
              "    }\n",
              "\n",
              "    .dataframe thead th {\n",
              "        text-align: right;\n",
              "    }\n",
              "</style>\n",
              "<table border=\"1\" class=\"dataframe\">\n",
              "  <thead>\n",
              "    <tr style=\"text-align: right;\">\n",
              "      <th></th>\n",
              "      <th>est_diameter_min</th>\n",
              "      <th>est_diameter_max</th>\n",
              "      <th>relative_velocity</th>\n",
              "      <th>miss_distance</th>\n",
              "      <th>absolute_magnitude</th>\n",
              "      <th>hazardous</th>\n",
              "    </tr>\n",
              "  </thead>\n",
              "  <tbody>\n",
              "    <tr>\n",
              "      <th>0</th>\n",
              "      <td>1.198271</td>\n",
              "      <td>2.679415</td>\n",
              "      <td>13569.249224</td>\n",
              "      <td>5.483974e+07</td>\n",
              "      <td>16.73</td>\n",
              "      <td>False</td>\n",
              "    </tr>\n",
              "    <tr>\n",
              "      <th>1</th>\n",
              "      <td>0.265800</td>\n",
              "      <td>0.594347</td>\n",
              "      <td>73588.726663</td>\n",
              "      <td>6.143813e+07</td>\n",
              "      <td>20.00</td>\n",
              "      <td>True</td>\n",
              "    </tr>\n",
              "    <tr>\n",
              "      <th>2</th>\n",
              "      <td>0.722030</td>\n",
              "      <td>1.614507</td>\n",
              "      <td>114258.692129</td>\n",
              "      <td>4.979872e+07</td>\n",
              "      <td>17.83</td>\n",
              "      <td>False</td>\n",
              "    </tr>\n",
              "    <tr>\n",
              "      <th>3</th>\n",
              "      <td>0.096506</td>\n",
              "      <td>0.215794</td>\n",
              "      <td>24764.303138</td>\n",
              "      <td>2.543497e+07</td>\n",
              "      <td>22.20</td>\n",
              "      <td>False</td>\n",
              "    </tr>\n",
              "    <tr>\n",
              "      <th>4</th>\n",
              "      <td>0.255009</td>\n",
              "      <td>0.570217</td>\n",
              "      <td>42737.733765</td>\n",
              "      <td>4.627557e+07</td>\n",
              "      <td>20.09</td>\n",
              "      <td>True</td>\n",
              "    </tr>\n",
              "    <tr>\n",
              "      <th>...</th>\n",
              "      <td>...</td>\n",
              "      <td>...</td>\n",
              "      <td>...</td>\n",
              "      <td>...</td>\n",
              "      <td>...</td>\n",
              "      <td>...</td>\n",
              "    </tr>\n",
              "    <tr>\n",
              "      <th>90831</th>\n",
              "      <td>0.026580</td>\n",
              "      <td>0.059435</td>\n",
              "      <td>52078.886692</td>\n",
              "      <td>1.230039e+07</td>\n",
              "      <td>25.00</td>\n",
              "      <td>False</td>\n",
              "    </tr>\n",
              "    <tr>\n",
              "      <th>90832</th>\n",
              "      <td>0.016771</td>\n",
              "      <td>0.037501</td>\n",
              "      <td>46114.605073</td>\n",
              "      <td>5.432121e+07</td>\n",
              "      <td>26.00</td>\n",
              "      <td>False</td>\n",
              "    </tr>\n",
              "    <tr>\n",
              "      <th>90833</th>\n",
              "      <td>0.031956</td>\n",
              "      <td>0.071456</td>\n",
              "      <td>7566.807732</td>\n",
              "      <td>2.840077e+07</td>\n",
              "      <td>24.60</td>\n",
              "      <td>False</td>\n",
              "    </tr>\n",
              "    <tr>\n",
              "      <th>90834</th>\n",
              "      <td>0.007321</td>\n",
              "      <td>0.016370</td>\n",
              "      <td>69199.154484</td>\n",
              "      <td>6.869206e+07</td>\n",
              "      <td>27.80</td>\n",
              "      <td>False</td>\n",
              "    </tr>\n",
              "    <tr>\n",
              "      <th>90835</th>\n",
              "      <td>0.039862</td>\n",
              "      <td>0.089133</td>\n",
              "      <td>27024.455553</td>\n",
              "      <td>5.977213e+07</td>\n",
              "      <td>24.12</td>\n",
              "      <td>False</td>\n",
              "    </tr>\n",
              "  </tbody>\n",
              "</table>\n",
              "<p>90836 rows × 6 columns</p>\n",
              "</div>\n",
              "      <button class=\"colab-df-convert\" onclick=\"convertToInteractive('df-39a24f9d-24f5-4c8f-896f-e790bc6b2c80')\"\n",
              "              title=\"Convert this dataframe to an interactive table.\"\n",
              "              style=\"display:none;\">\n",
              "        \n",
              "  <svg xmlns=\"http://www.w3.org/2000/svg\" height=\"24px\"viewBox=\"0 0 24 24\"\n",
              "       width=\"24px\">\n",
              "    <path d=\"M0 0h24v24H0V0z\" fill=\"none\"/>\n",
              "    <path d=\"M18.56 5.44l.94 2.06.94-2.06 2.06-.94-2.06-.94-.94-2.06-.94 2.06-2.06.94zm-11 1L8.5 8.5l.94-2.06 2.06-.94-2.06-.94L8.5 2.5l-.94 2.06-2.06.94zm10 10l.94 2.06.94-2.06 2.06-.94-2.06-.94-.94-2.06-.94 2.06-2.06.94z\"/><path d=\"M17.41 7.96l-1.37-1.37c-.4-.4-.92-.59-1.43-.59-.52 0-1.04.2-1.43.59L10.3 9.45l-7.72 7.72c-.78.78-.78 2.05 0 2.83L4 21.41c.39.39.9.59 1.41.59.51 0 1.02-.2 1.41-.59l7.78-7.78 2.81-2.81c.8-.78.8-2.07 0-2.86zM5.41 20L4 18.59l7.72-7.72 1.47 1.35L5.41 20z\"/>\n",
              "  </svg>\n",
              "      </button>\n",
              "      \n",
              "  <style>\n",
              "    .colab-df-container {\n",
              "      display:flex;\n",
              "      flex-wrap:wrap;\n",
              "      gap: 12px;\n",
              "    }\n",
              "\n",
              "    .colab-df-convert {\n",
              "      background-color: #E8F0FE;\n",
              "      border: none;\n",
              "      border-radius: 50%;\n",
              "      cursor: pointer;\n",
              "      display: none;\n",
              "      fill: #1967D2;\n",
              "      height: 32px;\n",
              "      padding: 0 0 0 0;\n",
              "      width: 32px;\n",
              "    }\n",
              "\n",
              "    .colab-df-convert:hover {\n",
              "      background-color: #E2EBFA;\n",
              "      box-shadow: 0px 1px 2px rgba(60, 64, 67, 0.3), 0px 1px 3px 1px rgba(60, 64, 67, 0.15);\n",
              "      fill: #174EA6;\n",
              "    }\n",
              "\n",
              "    [theme=dark] .colab-df-convert {\n",
              "      background-color: #3B4455;\n",
              "      fill: #D2E3FC;\n",
              "    }\n",
              "\n",
              "    [theme=dark] .colab-df-convert:hover {\n",
              "      background-color: #434B5C;\n",
              "      box-shadow: 0px 1px 3px 1px rgba(0, 0, 0, 0.15);\n",
              "      filter: drop-shadow(0px 1px 2px rgba(0, 0, 0, 0.3));\n",
              "      fill: #FFFFFF;\n",
              "    }\n",
              "  </style>\n",
              "\n",
              "      <script>\n",
              "        const buttonEl =\n",
              "          document.querySelector('#df-39a24f9d-24f5-4c8f-896f-e790bc6b2c80 button.colab-df-convert');\n",
              "        buttonEl.style.display =\n",
              "          google.colab.kernel.accessAllowed ? 'block' : 'none';\n",
              "\n",
              "        async function convertToInteractive(key) {\n",
              "          const element = document.querySelector('#df-39a24f9d-24f5-4c8f-896f-e790bc6b2c80');\n",
              "          const dataTable =\n",
              "            await google.colab.kernel.invokeFunction('convertToInteractive',\n",
              "                                                     [key], {});\n",
              "          if (!dataTable) return;\n",
              "\n",
              "          const docLinkHtml = 'Like what you see? Visit the ' +\n",
              "            '<a target=\"_blank\" href=https://colab.research.google.com/notebooks/data_table.ipynb>data table notebook</a>'\n",
              "            + ' to learn more about interactive tables.';\n",
              "          element.innerHTML = '';\n",
              "          dataTable['output_type'] = 'display_data';\n",
              "          await google.colab.output.renderOutput(dataTable, element);\n",
              "          const docLink = document.createElement('div');\n",
              "          docLink.innerHTML = docLinkHtml;\n",
              "          element.appendChild(docLink);\n",
              "        }\n",
              "      </script>\n",
              "    </div>\n",
              "  </div>\n",
              "  "
            ]
          },
          "metadata": {},
          "execution_count": 148
        }
      ],
      "source": [
        "to_drop = ['id', 'name', 'orbiting_body', 'sentry_object']\n",
        "\n",
        "# Drop those columns from the DataFrame\n",
        "asteriod = asteriod.drop(to_drop, axis=1)\n",
        "asteriod"
      ]
    },
    {
      "cell_type": "markdown",
      "metadata": {
        "id": "dyilFk2oze3E"
      },
      "source": [
        "### Encode categorical features"
      ]
    },
    {
      "cell_type": "code",
      "execution_count": null,
      "metadata": {
        "id": "OmROJDSczhHn",
        "colab": {
          "base_uri": "https://localhost:8080/"
        },
        "outputId": "3e40ebe5-fbaa-4a6f-f4b2-a38274e43482"
      },
      "outputs": [
        {
          "output_type": "stream",
          "name": "stdout",
          "text": [
            "<class 'pandas.core.frame.DataFrame'>\n",
            "RangeIndex: 90836 entries, 0 to 90835\n",
            "Data columns (total 6 columns):\n",
            " #   Column              Non-Null Count  Dtype  \n",
            "---  ------              --------------  -----  \n",
            " 0   est_diameter_min    90836 non-null  float64\n",
            " 1   est_diameter_max    90836 non-null  float64\n",
            " 2   relative_velocity   90836 non-null  float64\n",
            " 3   miss_distance       90836 non-null  float64\n",
            " 4   absolute_magnitude  90836 non-null  float64\n",
            " 5   hazardous           90836 non-null  bool   \n",
            "dtypes: bool(1), float64(5)\n",
            "memory usage: 3.6 MB\n"
          ]
        }
      ],
      "source": [
        "asteriod.info()"
      ]
    },
    {
      "cell_type": "code",
      "execution_count": null,
      "metadata": {
        "id": "vbi1R41yzok1",
        "colab": {
          "base_uri": "https://localhost:8080/"
        },
        "outputId": "f6394f7d-7d24-4bce-e52b-c4ea1a3627c0"
      },
      "outputs": [
        {
          "output_type": "execute_result",
          "data": {
            "text/plain": [
              "array([False,  True])"
            ]
          },
          "metadata": {},
          "execution_count": 150
        }
      ],
      "source": [
        "asteriod['hazardous'].unique()"
      ]
    },
    {
      "cell_type": "code",
      "execution_count": null,
      "metadata": {
        "id": "MSgnSUFDz6ZU",
        "colab": {
          "base_uri": "https://localhost:8080/"
        },
        "outputId": "45bb6355-4519-464b-d555-7263e089dbc5"
      },
      "outputs": [
        {
          "output_type": "execute_result",
          "data": {
            "text/plain": [
              "       est_diameter_min  est_diameter_max  relative_velocity  miss_distance  \\\n",
              "0              1.198271          2.679415       13569.249224   5.483974e+07   \n",
              "1              0.265800          0.594347       73588.726663   6.143813e+07   \n",
              "2              0.722030          1.614507      114258.692129   4.979872e+07   \n",
              "3              0.096506          0.215794       24764.303138   2.543497e+07   \n",
              "4              0.255009          0.570217       42737.733765   4.627557e+07   \n",
              "...                 ...               ...                ...            ...   \n",
              "90831          0.026580          0.059435       52078.886692   1.230039e+07   \n",
              "90832          0.016771          0.037501       46114.605073   5.432121e+07   \n",
              "90833          0.031956          0.071456        7566.807732   2.840077e+07   \n",
              "90834          0.007321          0.016370       69199.154484   6.869206e+07   \n",
              "90835          0.039862          0.089133       27024.455553   5.977213e+07   \n",
              "\n",
              "       absolute_magnitude  hazardous  \n",
              "0                   16.73          0  \n",
              "1                   20.00          1  \n",
              "2                   17.83          0  \n",
              "3                   22.20          0  \n",
              "4                   20.09          1  \n",
              "...                   ...        ...  \n",
              "90831               25.00          0  \n",
              "90832               26.00          0  \n",
              "90833               24.60          0  \n",
              "90834               27.80          0  \n",
              "90835               24.12          0  \n",
              "\n",
              "[90836 rows x 6 columns]"
            ],
            "text/html": [
              "\n",
              "  <div id=\"df-86ab42d6-6922-4c19-8e8a-0963aca6be26\">\n",
              "    <div class=\"colab-df-container\">\n",
              "      <div>\n",
              "<style scoped>\n",
              "    .dataframe tbody tr th:only-of-type {\n",
              "        vertical-align: middle;\n",
              "    }\n",
              "\n",
              "    .dataframe tbody tr th {\n",
              "        vertical-align: top;\n",
              "    }\n",
              "\n",
              "    .dataframe thead th {\n",
              "        text-align: right;\n",
              "    }\n",
              "</style>\n",
              "<table border=\"1\" class=\"dataframe\">\n",
              "  <thead>\n",
              "    <tr style=\"text-align: right;\">\n",
              "      <th></th>\n",
              "      <th>est_diameter_min</th>\n",
              "      <th>est_diameter_max</th>\n",
              "      <th>relative_velocity</th>\n",
              "      <th>miss_distance</th>\n",
              "      <th>absolute_magnitude</th>\n",
              "      <th>hazardous</th>\n",
              "    </tr>\n",
              "  </thead>\n",
              "  <tbody>\n",
              "    <tr>\n",
              "      <th>0</th>\n",
              "      <td>1.198271</td>\n",
              "      <td>2.679415</td>\n",
              "      <td>13569.249224</td>\n",
              "      <td>5.483974e+07</td>\n",
              "      <td>16.73</td>\n",
              "      <td>0</td>\n",
              "    </tr>\n",
              "    <tr>\n",
              "      <th>1</th>\n",
              "      <td>0.265800</td>\n",
              "      <td>0.594347</td>\n",
              "      <td>73588.726663</td>\n",
              "      <td>6.143813e+07</td>\n",
              "      <td>20.00</td>\n",
              "      <td>1</td>\n",
              "    </tr>\n",
              "    <tr>\n",
              "      <th>2</th>\n",
              "      <td>0.722030</td>\n",
              "      <td>1.614507</td>\n",
              "      <td>114258.692129</td>\n",
              "      <td>4.979872e+07</td>\n",
              "      <td>17.83</td>\n",
              "      <td>0</td>\n",
              "    </tr>\n",
              "    <tr>\n",
              "      <th>3</th>\n",
              "      <td>0.096506</td>\n",
              "      <td>0.215794</td>\n",
              "      <td>24764.303138</td>\n",
              "      <td>2.543497e+07</td>\n",
              "      <td>22.20</td>\n",
              "      <td>0</td>\n",
              "    </tr>\n",
              "    <tr>\n",
              "      <th>4</th>\n",
              "      <td>0.255009</td>\n",
              "      <td>0.570217</td>\n",
              "      <td>42737.733765</td>\n",
              "      <td>4.627557e+07</td>\n",
              "      <td>20.09</td>\n",
              "      <td>1</td>\n",
              "    </tr>\n",
              "    <tr>\n",
              "      <th>...</th>\n",
              "      <td>...</td>\n",
              "      <td>...</td>\n",
              "      <td>...</td>\n",
              "      <td>...</td>\n",
              "      <td>...</td>\n",
              "      <td>...</td>\n",
              "    </tr>\n",
              "    <tr>\n",
              "      <th>90831</th>\n",
              "      <td>0.026580</td>\n",
              "      <td>0.059435</td>\n",
              "      <td>52078.886692</td>\n",
              "      <td>1.230039e+07</td>\n",
              "      <td>25.00</td>\n",
              "      <td>0</td>\n",
              "    </tr>\n",
              "    <tr>\n",
              "      <th>90832</th>\n",
              "      <td>0.016771</td>\n",
              "      <td>0.037501</td>\n",
              "      <td>46114.605073</td>\n",
              "      <td>5.432121e+07</td>\n",
              "      <td>26.00</td>\n",
              "      <td>0</td>\n",
              "    </tr>\n",
              "    <tr>\n",
              "      <th>90833</th>\n",
              "      <td>0.031956</td>\n",
              "      <td>0.071456</td>\n",
              "      <td>7566.807732</td>\n",
              "      <td>2.840077e+07</td>\n",
              "      <td>24.60</td>\n",
              "      <td>0</td>\n",
              "    </tr>\n",
              "    <tr>\n",
              "      <th>90834</th>\n",
              "      <td>0.007321</td>\n",
              "      <td>0.016370</td>\n",
              "      <td>69199.154484</td>\n",
              "      <td>6.869206e+07</td>\n",
              "      <td>27.80</td>\n",
              "      <td>0</td>\n",
              "    </tr>\n",
              "    <tr>\n",
              "      <th>90835</th>\n",
              "      <td>0.039862</td>\n",
              "      <td>0.089133</td>\n",
              "      <td>27024.455553</td>\n",
              "      <td>5.977213e+07</td>\n",
              "      <td>24.12</td>\n",
              "      <td>0</td>\n",
              "    </tr>\n",
              "  </tbody>\n",
              "</table>\n",
              "<p>90836 rows × 6 columns</p>\n",
              "</div>\n",
              "      <button class=\"colab-df-convert\" onclick=\"convertToInteractive('df-86ab42d6-6922-4c19-8e8a-0963aca6be26')\"\n",
              "              title=\"Convert this dataframe to an interactive table.\"\n",
              "              style=\"display:none;\">\n",
              "        \n",
              "  <svg xmlns=\"http://www.w3.org/2000/svg\" height=\"24px\"viewBox=\"0 0 24 24\"\n",
              "       width=\"24px\">\n",
              "    <path d=\"M0 0h24v24H0V0z\" fill=\"none\"/>\n",
              "    <path d=\"M18.56 5.44l.94 2.06.94-2.06 2.06-.94-2.06-.94-.94-2.06-.94 2.06-2.06.94zm-11 1L8.5 8.5l.94-2.06 2.06-.94-2.06-.94L8.5 2.5l-.94 2.06-2.06.94zm10 10l.94 2.06.94-2.06 2.06-.94-2.06-.94-.94-2.06-.94 2.06-2.06.94z\"/><path d=\"M17.41 7.96l-1.37-1.37c-.4-.4-.92-.59-1.43-.59-.52 0-1.04.2-1.43.59L10.3 9.45l-7.72 7.72c-.78.78-.78 2.05 0 2.83L4 21.41c.39.39.9.59 1.41.59.51 0 1.02-.2 1.41-.59l7.78-7.78 2.81-2.81c.8-.78.8-2.07 0-2.86zM5.41 20L4 18.59l7.72-7.72 1.47 1.35L5.41 20z\"/>\n",
              "  </svg>\n",
              "      </button>\n",
              "      \n",
              "  <style>\n",
              "    .colab-df-container {\n",
              "      display:flex;\n",
              "      flex-wrap:wrap;\n",
              "      gap: 12px;\n",
              "    }\n",
              "\n",
              "    .colab-df-convert {\n",
              "      background-color: #E8F0FE;\n",
              "      border: none;\n",
              "      border-radius: 50%;\n",
              "      cursor: pointer;\n",
              "      display: none;\n",
              "      fill: #1967D2;\n",
              "      height: 32px;\n",
              "      padding: 0 0 0 0;\n",
              "      width: 32px;\n",
              "    }\n",
              "\n",
              "    .colab-df-convert:hover {\n",
              "      background-color: #E2EBFA;\n",
              "      box-shadow: 0px 1px 2px rgba(60, 64, 67, 0.3), 0px 1px 3px 1px rgba(60, 64, 67, 0.15);\n",
              "      fill: #174EA6;\n",
              "    }\n",
              "\n",
              "    [theme=dark] .colab-df-convert {\n",
              "      background-color: #3B4455;\n",
              "      fill: #D2E3FC;\n",
              "    }\n",
              "\n",
              "    [theme=dark] .colab-df-convert:hover {\n",
              "      background-color: #434B5C;\n",
              "      box-shadow: 0px 1px 3px 1px rgba(0, 0, 0, 0.15);\n",
              "      filter: drop-shadow(0px 1px 2px rgba(0, 0, 0, 0.3));\n",
              "      fill: #FFFFFF;\n",
              "    }\n",
              "  </style>\n",
              "\n",
              "      <script>\n",
              "        const buttonEl =\n",
              "          document.querySelector('#df-86ab42d6-6922-4c19-8e8a-0963aca6be26 button.colab-df-convert');\n",
              "        buttonEl.style.display =\n",
              "          google.colab.kernel.accessAllowed ? 'block' : 'none';\n",
              "\n",
              "        async function convertToInteractive(key) {\n",
              "          const element = document.querySelector('#df-86ab42d6-6922-4c19-8e8a-0963aca6be26');\n",
              "          const dataTable =\n",
              "            await google.colab.kernel.invokeFunction('convertToInteractive',\n",
              "                                                     [key], {});\n",
              "          if (!dataTable) return;\n",
              "\n",
              "          const docLinkHtml = 'Like what you see? Visit the ' +\n",
              "            '<a target=\"_blank\" href=https://colab.research.google.com/notebooks/data_table.ipynb>data table notebook</a>'\n",
              "            + ' to learn more about interactive tables.';\n",
              "          element.innerHTML = '';\n",
              "          dataTable['output_type'] = 'display_data';\n",
              "          await google.colab.output.renderOutput(dataTable, element);\n",
              "          const docLink = document.createElement('div');\n",
              "          docLink.innerHTML = docLinkHtml;\n",
              "          element.appendChild(docLink);\n",
              "        }\n",
              "      </script>\n",
              "    </div>\n",
              "  </div>\n",
              "  "
            ]
          },
          "metadata": {},
          "execution_count": 151
        }
      ],
      "source": [
        "enc = LabelEncoder()\n",
        "\n",
        "asteriod['hazardous'] = enc.fit_transform(asteriod['hazardous'])\n",
        "\n",
        "asteriod"
      ]
    },
    {
      "cell_type": "markdown",
      "source": [
        "### Data Normalization"
      ],
      "metadata": {
        "id": "-1svO4DMPVi0"
      }
    },
    {
      "cell_type": "code",
      "source": [
        "## storing names of columns in Column_Names\n",
        "Column_Names=['est_diameter_min', 'est_diameter_max', 'relative_velocity', 'absolute_magnitude']\n",
        "\n",
        "for j in Column_Names:\n",
        "  asteriod[j],_ = stats.boxcox(asteriod[j])\n",
        "\n",
        "asteriod"
      ],
      "metadata": {
        "id": "FhpYs2h4Pap8",
        "colab": {
          "base_uri": "https://localhost:8080/",
          "height": 424
        },
        "outputId": "b9d15321-4895-4378-8b05-c64f14bab06e"
      },
      "execution_count": null,
      "outputs": [
        {
          "output_type": "execute_result",
          "data": {
            "text/plain": [
              "       est_diameter_min  est_diameter_max  relative_velocity  miss_distance  \\\n",
              "0              0.180194          0.965465          84.705922   5.483974e+07   \n",
              "1             -1.362597         -0.526022         158.954119   6.143813e+07   \n",
              "2             -0.327928          0.474240         187.001659   4.979872e+07   \n",
              "3             -2.456883         -1.583919         106.085799   2.543497e+07   \n",
              "4             -1.406455         -0.568422         129.966715   4.627557e+07   \n",
              "...                 ...               ...                ...            ...   \n",
              "90831         -3.918721         -2.997146         139.855294   1.230039e+07   \n",
              "90832         -4.460304         -3.520719         133.687036   5.432121e+07   \n",
              "90833         -3.705006         -2.790537          67.976033   2.840077e+07   \n",
              "90834         -5.461963         -4.489069         155.378715   6.869206e+07   \n",
              "90835         -3.450722         -2.544709         109.596924   5.977213e+07   \n",
              "\n",
              "       absolute_magnitude  hazardous  \n",
              "0               34.507344          0  \n",
              "1               44.336306          1  \n",
              "2               37.739312          0  \n",
              "3               51.307005          0  \n",
              "4               44.616022          1  \n",
              "...                   ...        ...  \n",
              "90831           60.562331          0  \n",
              "90832           63.966466          0  \n",
              "90833           59.214921          0  \n",
              "90834           70.218862          0  \n",
              "90835           57.608942          0  \n",
              "\n",
              "[90836 rows x 6 columns]"
            ],
            "text/html": [
              "\n",
              "  <div id=\"df-13aab49f-b485-4781-99dd-f4666bfd75fa\">\n",
              "    <div class=\"colab-df-container\">\n",
              "      <div>\n",
              "<style scoped>\n",
              "    .dataframe tbody tr th:only-of-type {\n",
              "        vertical-align: middle;\n",
              "    }\n",
              "\n",
              "    .dataframe tbody tr th {\n",
              "        vertical-align: top;\n",
              "    }\n",
              "\n",
              "    .dataframe thead th {\n",
              "        text-align: right;\n",
              "    }\n",
              "</style>\n",
              "<table border=\"1\" class=\"dataframe\">\n",
              "  <thead>\n",
              "    <tr style=\"text-align: right;\">\n",
              "      <th></th>\n",
              "      <th>est_diameter_min</th>\n",
              "      <th>est_diameter_max</th>\n",
              "      <th>relative_velocity</th>\n",
              "      <th>miss_distance</th>\n",
              "      <th>absolute_magnitude</th>\n",
              "      <th>hazardous</th>\n",
              "    </tr>\n",
              "  </thead>\n",
              "  <tbody>\n",
              "    <tr>\n",
              "      <th>0</th>\n",
              "      <td>0.180194</td>\n",
              "      <td>0.965465</td>\n",
              "      <td>84.705922</td>\n",
              "      <td>5.483974e+07</td>\n",
              "      <td>34.507344</td>\n",
              "      <td>0</td>\n",
              "    </tr>\n",
              "    <tr>\n",
              "      <th>1</th>\n",
              "      <td>-1.362597</td>\n",
              "      <td>-0.526022</td>\n",
              "      <td>158.954119</td>\n",
              "      <td>6.143813e+07</td>\n",
              "      <td>44.336306</td>\n",
              "      <td>1</td>\n",
              "    </tr>\n",
              "    <tr>\n",
              "      <th>2</th>\n",
              "      <td>-0.327928</td>\n",
              "      <td>0.474240</td>\n",
              "      <td>187.001659</td>\n",
              "      <td>4.979872e+07</td>\n",
              "      <td>37.739312</td>\n",
              "      <td>0</td>\n",
              "    </tr>\n",
              "    <tr>\n",
              "      <th>3</th>\n",
              "      <td>-2.456883</td>\n",
              "      <td>-1.583919</td>\n",
              "      <td>106.085799</td>\n",
              "      <td>2.543497e+07</td>\n",
              "      <td>51.307005</td>\n",
              "      <td>0</td>\n",
              "    </tr>\n",
              "    <tr>\n",
              "      <th>4</th>\n",
              "      <td>-1.406455</td>\n",
              "      <td>-0.568422</td>\n",
              "      <td>129.966715</td>\n",
              "      <td>4.627557e+07</td>\n",
              "      <td>44.616022</td>\n",
              "      <td>1</td>\n",
              "    </tr>\n",
              "    <tr>\n",
              "      <th>...</th>\n",
              "      <td>...</td>\n",
              "      <td>...</td>\n",
              "      <td>...</td>\n",
              "      <td>...</td>\n",
              "      <td>...</td>\n",
              "      <td>...</td>\n",
              "    </tr>\n",
              "    <tr>\n",
              "      <th>90831</th>\n",
              "      <td>-3.918721</td>\n",
              "      <td>-2.997146</td>\n",
              "      <td>139.855294</td>\n",
              "      <td>1.230039e+07</td>\n",
              "      <td>60.562331</td>\n",
              "      <td>0</td>\n",
              "    </tr>\n",
              "    <tr>\n",
              "      <th>90832</th>\n",
              "      <td>-4.460304</td>\n",
              "      <td>-3.520719</td>\n",
              "      <td>133.687036</td>\n",
              "      <td>5.432121e+07</td>\n",
              "      <td>63.966466</td>\n",
              "      <td>0</td>\n",
              "    </tr>\n",
              "    <tr>\n",
              "      <th>90833</th>\n",
              "      <td>-3.705006</td>\n",
              "      <td>-2.790537</td>\n",
              "      <td>67.976033</td>\n",
              "      <td>2.840077e+07</td>\n",
              "      <td>59.214921</td>\n",
              "      <td>0</td>\n",
              "    </tr>\n",
              "    <tr>\n",
              "      <th>90834</th>\n",
              "      <td>-5.461963</td>\n",
              "      <td>-4.489069</td>\n",
              "      <td>155.378715</td>\n",
              "      <td>6.869206e+07</td>\n",
              "      <td>70.218862</td>\n",
              "      <td>0</td>\n",
              "    </tr>\n",
              "    <tr>\n",
              "      <th>90835</th>\n",
              "      <td>-3.450722</td>\n",
              "      <td>-2.544709</td>\n",
              "      <td>109.596924</td>\n",
              "      <td>5.977213e+07</td>\n",
              "      <td>57.608942</td>\n",
              "      <td>0</td>\n",
              "    </tr>\n",
              "  </tbody>\n",
              "</table>\n",
              "<p>90836 rows × 6 columns</p>\n",
              "</div>\n",
              "      <button class=\"colab-df-convert\" onclick=\"convertToInteractive('df-13aab49f-b485-4781-99dd-f4666bfd75fa')\"\n",
              "              title=\"Convert this dataframe to an interactive table.\"\n",
              "              style=\"display:none;\">\n",
              "        \n",
              "  <svg xmlns=\"http://www.w3.org/2000/svg\" height=\"24px\"viewBox=\"0 0 24 24\"\n",
              "       width=\"24px\">\n",
              "    <path d=\"M0 0h24v24H0V0z\" fill=\"none\"/>\n",
              "    <path d=\"M18.56 5.44l.94 2.06.94-2.06 2.06-.94-2.06-.94-.94-2.06-.94 2.06-2.06.94zm-11 1L8.5 8.5l.94-2.06 2.06-.94-2.06-.94L8.5 2.5l-.94 2.06-2.06.94zm10 10l.94 2.06.94-2.06 2.06-.94-2.06-.94-.94-2.06-.94 2.06-2.06.94z\"/><path d=\"M17.41 7.96l-1.37-1.37c-.4-.4-.92-.59-1.43-.59-.52 0-1.04.2-1.43.59L10.3 9.45l-7.72 7.72c-.78.78-.78 2.05 0 2.83L4 21.41c.39.39.9.59 1.41.59.51 0 1.02-.2 1.41-.59l7.78-7.78 2.81-2.81c.8-.78.8-2.07 0-2.86zM5.41 20L4 18.59l7.72-7.72 1.47 1.35L5.41 20z\"/>\n",
              "  </svg>\n",
              "      </button>\n",
              "      \n",
              "  <style>\n",
              "    .colab-df-container {\n",
              "      display:flex;\n",
              "      flex-wrap:wrap;\n",
              "      gap: 12px;\n",
              "    }\n",
              "\n",
              "    .colab-df-convert {\n",
              "      background-color: #E8F0FE;\n",
              "      border: none;\n",
              "      border-radius: 50%;\n",
              "      cursor: pointer;\n",
              "      display: none;\n",
              "      fill: #1967D2;\n",
              "      height: 32px;\n",
              "      padding: 0 0 0 0;\n",
              "      width: 32px;\n",
              "    }\n",
              "\n",
              "    .colab-df-convert:hover {\n",
              "      background-color: #E2EBFA;\n",
              "      box-shadow: 0px 1px 2px rgba(60, 64, 67, 0.3), 0px 1px 3px 1px rgba(60, 64, 67, 0.15);\n",
              "      fill: #174EA6;\n",
              "    }\n",
              "\n",
              "    [theme=dark] .colab-df-convert {\n",
              "      background-color: #3B4455;\n",
              "      fill: #D2E3FC;\n",
              "    }\n",
              "\n",
              "    [theme=dark] .colab-df-convert:hover {\n",
              "      background-color: #434B5C;\n",
              "      box-shadow: 0px 1px 3px 1px rgba(0, 0, 0, 0.15);\n",
              "      filter: drop-shadow(0px 1px 2px rgba(0, 0, 0, 0.3));\n",
              "      fill: #FFFFFF;\n",
              "    }\n",
              "  </style>\n",
              "\n",
              "      <script>\n",
              "        const buttonEl =\n",
              "          document.querySelector('#df-13aab49f-b485-4781-99dd-f4666bfd75fa button.colab-df-convert');\n",
              "        buttonEl.style.display =\n",
              "          google.colab.kernel.accessAllowed ? 'block' : 'none';\n",
              "\n",
              "        async function convertToInteractive(key) {\n",
              "          const element = document.querySelector('#df-13aab49f-b485-4781-99dd-f4666bfd75fa');\n",
              "          const dataTable =\n",
              "            await google.colab.kernel.invokeFunction('convertToInteractive',\n",
              "                                                     [key], {});\n",
              "          if (!dataTable) return;\n",
              "\n",
              "          const docLinkHtml = 'Like what you see? Visit the ' +\n",
              "            '<a target=\"_blank\" href=https://colab.research.google.com/notebooks/data_table.ipynb>data table notebook</a>'\n",
              "            + ' to learn more about interactive tables.';\n",
              "          element.innerHTML = '';\n",
              "          dataTable['output_type'] = 'display_data';\n",
              "          await google.colab.output.renderOutput(dataTable, element);\n",
              "          const docLink = document.createElement('div');\n",
              "          docLink.innerHTML = docLinkHtml;\n",
              "          element.appendChild(docLink);\n",
              "        }\n",
              "      </script>\n",
              "    </div>\n",
              "  </div>\n",
              "  "
            ]
          },
          "metadata": {},
          "execution_count": 152
        }
      ]
    },
    {
      "cell_type": "markdown",
      "source": [
        "**Box-Cox Transformation Formula:**\n",
        "\n",
        "![image.png](data:image/png;base64,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)"
      ],
      "metadata": {
        "id": "KvlbALiULFM_"
      }
    },
    {
      "cell_type": "code",
      "source": [
        "distPlotColumns=['est_diameter_min', 'est_diameter_max', 'relative_velocity',\n",
        "       'miss_distance', 'absolute_magnitude']\n",
        "\n",
        "rows=3\n",
        "cols=2\n",
        "counter=1\n",
        "plt.rcParams['figure.figsize']=[12,6]\n",
        "for i in distPlotColumns:\n",
        "    plt.subplot(rows,cols,counter)\n",
        "    sns.distplot(asteriod[i])\n",
        "    counter+=1\n",
        "plt.tight_layout()\n",
        "plt.show()"
      ],
      "metadata": {
        "id": "oPBJQnFEPc20",
        "colab": {
          "base_uri": "https://localhost:8080/",
          "height": 437
        },
        "outputId": "5f637cdf-8321-47d6-a68d-3436f36f7a20"
      },
      "execution_count": null,
      "outputs": [
        {
          "output_type": "display_data",
          "data": {
            "text/plain": [
              "<Figure size 864x432 with 5 Axes>"
            ],
            "image/png": "[encoded data removed]"
          },
          "metadata": {}
        }
      ]
    },
    {
      "cell_type": "markdown",
      "metadata": {
        "id": "2rQDo3sZ2GHy"
      },
      "source": [
        "### Remove Outliers"
      ]
    },
    {
      "cell_type": "code",
      "execution_count": null,
      "metadata": {
        "id": "53xv0eBv2Ket",
        "colab": {
          "base_uri": "https://localhost:8080/"
        },
        "outputId": "6937b685-4255-4f31-a0e3-cf9e713f6e73"
      },
      "outputs": [
        {
          "output_type": "execute_result",
          "data": {
            "text/plain": [
              "       est_diameter_min  est_diameter_max  relative_velocity  miss_distance  \\\n",
              "0                   NaN               NaN          84.705922   5.483974e+07   \n",
              "1             -1.362597         -0.526022         158.954119   6.143813e+07   \n",
              "2             -0.327928          0.474240                NaN   4.979872e+07   \n",
              "3             -2.456883         -1.583919         106.085799   2.543497e+07   \n",
              "4             -1.406455         -0.568422         129.966715   4.627557e+07   \n",
              "...                 ...               ...                ...            ...   \n",
              "90831         -3.918721         -2.997146         139.855294   1.230039e+07   \n",
              "90832         -4.460304         -3.520719         133.687036   5.432121e+07   \n",
              "90833         -3.705006         -2.790537                NaN   2.840077e+07   \n",
              "90834         -5.461963         -4.489069         155.378715   6.869206e+07   \n",
              "90835         -3.450722         -2.544709         109.596924   5.977213e+07   \n",
              "\n",
              "       absolute_magnitude  hazardous  \n",
              "0                     NaN          0  \n",
              "1               44.336306          1  \n",
              "2               37.739312          0  \n",
              "3               51.307005          0  \n",
              "4               44.616022          1  \n",
              "...                   ...        ...  \n",
              "90831           60.562331          0  \n",
              "90832           63.966466          0  \n",
              "90833           59.214921          0  \n",
              "90834           70.218862          0  \n",
              "90835           57.608942          0  \n",
              "\n",
              "[90836 rows x 6 columns]"
            ],
            "text/html": [
              "\n",
              "  <div id=\"df-ed62b3c6-76e6-400e-880c-c14bb795115b\">\n",
              "    <div class=\"colab-df-container\">\n",
              "      <div>\n",
              "<style scoped>\n",
              "    .dataframe tbody tr th:only-of-type {\n",
              "        vertical-align: middle;\n",
              "    }\n",
              "\n",
              "    .dataframe tbody tr th {\n",
              "        vertical-align: top;\n",
              "    }\n",
              "\n",
              "    .dataframe thead th {\n",
              "        text-align: right;\n",
              "    }\n",
              "</style>\n",
              "<table border=\"1\" class=\"dataframe\">\n",
              "  <thead>\n",
              "    <tr style=\"text-align: right;\">\n",
              "      <th></th>\n",
              "      <th>est_diameter_min</th>\n",
              "      <th>est_diameter_max</th>\n",
              "      <th>relative_velocity</th>\n",
              "      <th>miss_distance</th>\n",
              "      <th>absolute_magnitude</th>\n",
              "      <th>hazardous</th>\n",
              "    </tr>\n",
              "  </thead>\n",
              "  <tbody>\n",
              "    <tr>\n",
              "      <th>0</th>\n",
              "      <td>NaN</td>\n",
              "      <td>NaN</td>\n",
              "      <td>84.705922</td>\n",
              "      <td>5.483974e+07</td>\n",
              "      <td>NaN</td>\n",
              "      <td>0</td>\n",
              "    </tr>\n",
              "    <tr>\n",
              "      <th>1</th>\n",
              "      <td>-1.362597</td>\n",
              "      <td>-0.526022</td>\n",
              "      <td>158.954119</td>\n",
              "      <td>6.143813e+07</td>\n",
              "      <td>44.336306</td>\n",
              "      <td>1</td>\n",
              "    </tr>\n",
              "    <tr>\n",
              "      <th>2</th>\n",
              "      <td>-0.327928</td>\n",
              "      <td>0.474240</td>\n",
              "      <td>NaN</td>\n",
              "      <td>4.979872e+07</td>\n",
              "      <td>37.739312</td>\n",
              "      <td>0</td>\n",
              "    </tr>\n",
              "    <tr>\n",
              "      <th>3</th>\n",
              "      <td>-2.456883</td>\n",
              "      <td>-1.583919</td>\n",
              "      <td>106.085799</td>\n",
              "      <td>2.543497e+07</td>\n",
              "      <td>51.307005</td>\n",
              "      <td>0</td>\n",
              "    </tr>\n",
              "    <tr>\n",
              "      <th>4</th>\n",
              "      <td>-1.406455</td>\n",
              "      <td>-0.568422</td>\n",
              "      <td>129.966715</td>\n",
              "      <td>4.627557e+07</td>\n",
              "      <td>44.616022</td>\n",
              "      <td>1</td>\n",
              "    </tr>\n",
              "    <tr>\n",
              "      <th>...</th>\n",
              "      <td>...</td>\n",
              "      <td>...</td>\n",
              "      <td>...</td>\n",
              "      <td>...</td>\n",
              "      <td>...</td>\n",
              "      <td>...</td>\n",
              "    </tr>\n",
              "    <tr>\n",
              "      <th>90831</th>\n",
              "      <td>-3.918721</td>\n",
              "      <td>-2.997146</td>\n",
              "      <td>139.855294</td>\n",
              "      <td>1.230039e+07</td>\n",
              "      <td>60.562331</td>\n",
              "      <td>0</td>\n",
              "    </tr>\n",
              "    <tr>\n",
              "      <th>90832</th>\n",
              "      <td>-4.460304</td>\n",
              "      <td>-3.520719</td>\n",
              "      <td>133.687036</td>\n",
              "      <td>5.432121e+07</td>\n",
              "      <td>63.966466</td>\n",
              "      <td>0</td>\n",
              "    </tr>\n",
              "    <tr>\n",
              "      <th>90833</th>\n",
              "      <td>-3.705006</td>\n",
              "      <td>-2.790537</td>\n",
              "      <td>NaN</td>\n",
              "      <td>2.840077e+07</td>\n",
              "      <td>59.214921</td>\n",
              "      <td>0</td>\n",
              "    </tr>\n",
              "    <tr>\n",
              "      <th>90834</th>\n",
              "      <td>-5.461963</td>\n",
              "      <td>-4.489069</td>\n",
              "      <td>155.378715</td>\n",
              "      <td>6.869206e+07</td>\n",
              "      <td>70.218862</td>\n",
              "      <td>0</td>\n",
              "    </tr>\n",
              "    <tr>\n",
              "      <th>90835</th>\n",
              "      <td>-3.450722</td>\n",
              "      <td>-2.544709</td>\n",
              "      <td>109.596924</td>\n",
              "      <td>5.977213e+07</td>\n",
              "      <td>57.608942</td>\n",
              "      <td>0</td>\n",
              "    </tr>\n",
              "  </tbody>\n",
              "</table>\n",
              "<p>90836 rows × 6 columns</p>\n",
              "</div>\n",
              "      <button class=\"colab-df-convert\" onclick=\"convertToInteractive('df-ed62b3c6-76e6-400e-880c-c14bb795115b')\"\n",
              "              title=\"Convert this dataframe to an interactive table.\"\n",
              "              style=\"display:none;\">\n",
              "        \n",
              "  <svg xmlns=\"http://www.w3.org/2000/svg\" height=\"24px\"viewBox=\"0 0 24 24\"\n",
              "       width=\"24px\">\n",
              "    <path d=\"M0 0h24v24H0V0z\" fill=\"none\"/>\n",
              "    <path d=\"M18.56 5.44l.94 2.06.94-2.06 2.06-.94-2.06-.94-.94-2.06-.94 2.06-2.06.94zm-11 1L8.5 8.5l.94-2.06 2.06-.94-2.06-.94L8.5 2.5l-.94 2.06-2.06.94zm10 10l.94 2.06.94-2.06 2.06-.94-2.06-.94-.94-2.06-.94 2.06-2.06.94z\"/><path d=\"M17.41 7.96l-1.37-1.37c-.4-.4-.92-.59-1.43-.59-.52 0-1.04.2-1.43.59L10.3 9.45l-7.72 7.72c-.78.78-.78 2.05 0 2.83L4 21.41c.39.39.9.59 1.41.59.51 0 1.02-.2 1.41-.59l7.78-7.78 2.81-2.81c.8-.78.8-2.07 0-2.86zM5.41 20L4 18.59l7.72-7.72 1.47 1.35L5.41 20z\"/>\n",
              "  </svg>\n",
              "      </button>\n",
              "      \n",
              "  <style>\n",
              "    .colab-df-container {\n",
              "      display:flex;\n",
              "      flex-wrap:wrap;\n",
              "      gap: 12px;\n",
              "    }\n",
              "\n",
              "    .colab-df-convert {\n",
              "      background-color: #E8F0FE;\n",
              "      border: none;\n",
              "      border-radius: 50%;\n",
              "      cursor: pointer;\n",
              "      display: none;\n",
              "      fill: #1967D2;\n",
              "      height: 32px;\n",
              "      padding: 0 0 0 0;\n",
              "      width: 32px;\n",
              "    }\n",
              "\n",
              "    .colab-df-convert:hover {\n",
              "      background-color: #E2EBFA;\n",
              "      box-shadow: 0px 1px 2px rgba(60, 64, 67, 0.3), 0px 1px 3px 1px rgba(60, 64, 67, 0.15);\n",
              "      fill: #174EA6;\n",
              "    }\n",
              "\n",
              "    [theme=dark] .colab-df-convert {\n",
              "      background-color: #3B4455;\n",
              "      fill: #D2E3FC;\n",
              "    }\n",
              "\n",
              "    [theme=dark] .colab-df-convert:hover {\n",
              "      background-color: #434B5C;\n",
              "      box-shadow: 0px 1px 3px 1px rgba(0, 0, 0, 0.15);\n",
              "      filter: drop-shadow(0px 1px 2px rgba(0, 0, 0, 0.3));\n",
              "      fill: #FFFFFF;\n",
              "    }\n",
              "  </style>\n",
              "\n",
              "      <script>\n",
              "        const buttonEl =\n",
              "          document.querySelector('#df-ed62b3c6-76e6-400e-880c-c14bb795115b button.colab-df-convert');\n",
              "        buttonEl.style.display =\n",
              "          google.colab.kernel.accessAllowed ? 'block' : 'none';\n",
              "\n",
              "        async function convertToInteractive(key) {\n",
              "          const element = document.querySelector('#df-ed62b3c6-76e6-400e-880c-c14bb795115b');\n",
              "          const dataTable =\n",
              "            await google.colab.kernel.invokeFunction('convertToInteractive',\n",
              "                                                     [key], {});\n",
              "          if (!dataTable) return;\n",
              "\n",
              "          const docLinkHtml = 'Like what you see? Visit the ' +\n",
              "            '<a target=\"_blank\" href=https://colab.research.google.com/notebooks/data_table.ipynb>data table notebook</a>'\n",
              "            + ' to learn more about interactive tables.';\n",
              "          element.innerHTML = '';\n",
              "          dataTable['output_type'] = 'display_data';\n",
              "          await google.colab.output.renderOutput(dataTable, element);\n",
              "          const docLink = document.createElement('div');\n",
              "          docLink.innerHTML = docLinkHtml;\n",
              "          element.appendChild(docLink);\n",
              "        }\n",
              "      </script>\n",
              "    </div>\n",
              "  </div>\n",
              "  "
            ]
          },
          "metadata": {},
          "execution_count": 154
        }
      ],
      "source": [
        "## storing names of columns in Column_Names\n",
        "Column_Names=['est_diameter_min', 'est_diameter_max', 'relative_velocity', 'absolute_magnitude']\n",
        "\n",
        "for j in Column_Names:\n",
        "  asteriod['zscore'] = (asteriod[j] - asteriod[j].mean())/asteriod[j].std()\n",
        "  asteriod.loc[((asteriod.zscore>2) | (asteriod.zscore<-2)), j] = np.nan\n",
        "\n",
        "asteriod = asteriod.drop('zscore', axis=1)\n",
        "asteriod"
      ]
    },
    {
      "cell_type": "code",
      "execution_count": null,
      "metadata": {
        "id": "hqzuIUUf0Dl8",
        "colab": {
          "base_uri": "https://localhost:8080/"
        },
        "outputId": "a62e6a94-7bba-42b2-f574-e93673833dae"
      },
      "outputs": [
        {
          "output_type": "execute_result",
          "data": {
            "text/plain": [
              "est_diameter_min      3067\n",
              "est_diameter_max      3067\n",
              "relative_velocity     3788\n",
              "miss_distance            0\n",
              "absolute_magnitude    2970\n",
              "hazardous                0\n",
              "dtype: int64"
            ]
          },
          "metadata": {},
          "execution_count": 155
        }
      ],
      "source": [
        "asteriod.isnull().sum()"
      ]
    },
    {
      "cell_type": "markdown",
      "source": [
        "### Null-Value Imputation"
      ],
      "metadata": {
        "id": "c4CMWt_WPwEO"
      }
    },
    {
      "cell_type": "code",
      "source": [
        "imputer = KNNImputer(n_neighbors=2)\n",
        "asteriod = pd.DataFrame(imputer.fit_transform(asteriod), columns = asteriod.columns)"
      ],
      "metadata": {
        "id": "-C0qIxY2P1LD"
      },
      "execution_count": null,
      "outputs": []
    },
    {
      "cell_type": "code",
      "source": [
        "asteriod.isnull().sum()"
      ],
      "metadata": {
        "id": "4j0joNeVP6qs",
        "colab": {
          "base_uri": "https://localhost:8080/"
        },
        "outputId": "ec477684-0205-4620-9c92-4f8e3cbf5225"
      },
      "execution_count": null,
      "outputs": [
        {
          "output_type": "execute_result",
          "data": {
            "text/plain": [
              "est_diameter_min      0\n",
              "est_diameter_max      0\n",
              "relative_velocity     0\n",
              "miss_distance         0\n",
              "absolute_magnitude    0\n",
              "hazardous             0\n",
              "dtype: int64"
            ]
          },
          "metadata": {},
          "execution_count": 157
        }
      ]
    },
    {
      "cell_type": "markdown",
      "metadata": {
        "id": "VQ3NsR2UpN7L"
      },
      "source": [
        "### Feature Selection"
      ]
    },
    {
      "cell_type": "code",
      "execution_count": null,
      "metadata": {
        "id": "VusUiA_gpTbQ",
        "colab": {
          "base_uri": "https://localhost:8080/"
        },
        "outputId": "e7cba0ee-e47a-419c-b2a7-b641293bd7ea"
      },
      "outputs": [
        {
          "output_type": "execute_result",
          "data": {
            "text/plain": [
              "Index(['est_diameter_min', 'est_diameter_max', 'relative_velocity',\n",
              "       'miss_distance', 'absolute_magnitude', 'hazardous'],\n",
              "      dtype='object')"
            ]
          },
          "metadata": {},
          "execution_count": 158
        }
      ],
      "source": [
        "asteriod.columns"
      ]
    },
    {
      "cell_type": "code",
      "execution_count": null,
      "metadata": {
        "id": "YeJy7Sn_pW3a"
      },
      "outputs": [],
      "source": [
        "# Feature Selection\n",
        "features = ['est_diameter_min', 'est_diameter_max',\t'relative_velocity',\t'miss_distance',\t'absolute_magnitude']\n",
        "label = ['hazardous']"
      ]
    },
    {
      "cell_type": "code",
      "execution_count": null,
      "metadata": {
        "id": "_JTkGcZ1pZqi"
      },
      "outputs": [],
      "source": [
        "X = asteriod.loc[:, features]\n",
        "y = asteriod.loc[:, label]"
      ]
    },
    {
      "cell_type": "markdown",
      "metadata": {
        "id": "CTfpU3IemxyL"
      },
      "source": [
        "### Handling Imbalanced Data: Upsampling"
      ]
    },
    {
      "cell_type": "code",
      "execution_count": null,
      "metadata": {
        "id": "fCOhT54Dm0kp",
        "colab": {
          "base_uri": "https://localhost:8080/"
        },
        "outputId": "37f3a25f-acda-45e2-803c-2f1265df2829"
      },
      "outputs": [
        {
          "output_type": "execute_result",
          "data": {
            "text/plain": [
              "0.0    81996\n",
              "1.0     8840\n",
              "Name: hazardous, dtype: int64"
            ]
          },
          "metadata": {},
          "execution_count": 161
        }
      ],
      "source": [
        "asteriod['hazardous'].value_counts()"
      ]
    },
    {
      "cell_type": "code",
      "execution_count": null,
      "metadata": {
        "id": "20df5N6Zm4SZ"
      },
      "outputs": [],
      "source": [
        "oversample = SMOTE()\n",
        "X_upsampled, y_upsampled = oversample.fit_resample(X, y)"
      ]
    },
    {
      "cell_type": "markdown",
      "source": [
        "\n",
        "*   SMOTE synthesises new minority instances\n",
        "*   generates the virtual training records by linear interpolation\n",
        "*   generated by randomly selecting one or more of the k-nearest neighbors\n",
        "\n"
      ],
      "metadata": {
        "id": "JReEfSsDLf3A"
      }
    },
    {
      "cell_type": "code",
      "execution_count": null,
      "metadata": {
        "id": "XcZCPxpcneox",
        "colab": {
          "base_uri": "https://localhost:8080/"
        },
        "outputId": "648a0c0d-8a02-4487-cc98-73cd920c6df5"
      },
      "outputs": [
        {
          "output_type": "display_data",
          "data": {
            "text/plain": [
              "<Figure size 576x432 with 1 Axes>"
            ],
            "image/png": "[encoded data removed]"
          },
          "metadata": {}
        }
      ],
      "source": [
        "plt.rcParams['figure.figsize']=[8,6]\n",
        "sns.countplot(x='hazardous',data=y_upsampled)\n",
        "plt.show()"
      ]
    },
    {
      "cell_type": "markdown",
      "metadata": {
        "id": "_n7h14is0Sil"
      },
      "source": [
        "### Split the dataset"
      ]
    },
    {
      "cell_type": "code",
      "execution_count": null,
      "metadata": {
        "id": "Y46c0MYg2rMl",
        "colab": {
          "base_uri": "https://localhost:8080/"
        },
        "outputId": "f651842a-289e-4249-d4c5-83987067898b"
      },
      "outputs": [
        {
          "output_type": "stream",
          "name": "stdout",
          "text": [
            "(68127, 5)\n",
            "(22709, 5)\n"
          ]
        }
      ],
      "source": [
        "\n",
        "X_train,X_test,y_train,y_test = train_test_split(X,y,\n",
        "                                                random_state=0,train_size=0.75, stratify = y)\n",
        "\n",
        "print(X_train.shape)\n",
        "print(X_test.shape)"
      ]
    },
    {
      "cell_type": "code",
      "execution_count": null,
      "metadata": {
        "id": "tww43K90jCmW",
        "colab": {
          "base_uri": "https://localhost:8080/"
        },
        "outputId": "6231b268-a9b3-4ad6-eb41-bc37765462b8"
      },
      "outputs": [
        {
          "output_type": "stream",
          "name": "stdout",
          "text": [
            "(122994, 5)\n",
            "(40998, 5)\n"
          ]
        }
      ],
      "source": [
        "\n",
        "X_train_upsampled,X_test_upsampled,y_train_upsampled,y_test_upsampled = train_test_split(X_upsampled,y_upsampled,\n",
        "                                                                                         random_state=0,train_size=0.75, stratify = y_upsampled)\n",
        "\n",
        "print(X_train_upsampled.shape)\n",
        "print(X_test_upsampled.shape)"
      ]
    },
    {
      "cell_type": "markdown",
      "metadata": {
        "id": "nEUenEOT3YBA"
      },
      "source": [
        "### Scale Dataset"
      ]
    },
    {
      "cell_type": "markdown",
      "source": [
        "**Standard Scaler:**\n",
        "\n",
        "$$\\frac{X - mean}{\\sigma}$$\n",
        "where,\n",
        "$$\\sigma = standard \\space deviation $$"
      ],
      "metadata": {
        "id": "EGVFU2qSMQSh"
      }
    },
    {
      "cell_type": "code",
      "execution_count": null,
      "metadata": {
        "id": "LjUQzoo_3ai-",
        "colab": {
          "base_uri": "https://localhost:8080/"
        },
        "outputId": "cc44cf3a-fb14-410a-b5e8-c102775523a0"
      },
      "outputs": [
        {
          "output_type": "stream",
          "name": "stdout",
          "text": [
            "       est_diameter_min  est_diameter_max  relative_velocity  miss_distance  \\\n",
            "71722         -3.177900         -2.280960         138.979715   1.679370e+07   \n",
            "83361         -2.660898         -1.781150         176.079305   1.247664e+07   \n",
            "69126         -2.456883         -1.583919         110.760647   3.630628e+07   \n",
            "71102         -5.236347         -4.270955         167.375329   8.200323e+06   \n",
            "112           -4.460304         -3.520719          94.894485   3.061760e+05   \n",
            "...                 ...               ...                ...            ...   \n",
            "3816          -4.790321         -3.839761         146.424962   5.518760e+07   \n",
            "49334         -3.651835         -2.739134         131.130674   2.405627e+07   \n",
            "69634         -3.021748         -2.130000         100.412608   2.987091e+07   \n",
            "73043         -2.355466         -1.485874         125.191856   8.239662e+06   \n",
            "36223         -3.865137         -2.945343         131.648830   1.131423e+07   \n",
            "\n",
            "       absolute_magnitude  \n",
            "71722           55.882727  \n",
            "83361           52.603526  \n",
            "69126           51.307005  \n",
            "71102           68.815815  \n",
            "112             63.966466  \n",
            "...                   ...  \n",
            "3816            66.032971  \n",
            "49334           58.879356  \n",
            "69634           54.893339  \n",
            "73043           50.662040  \n",
            "36223           60.224708  \n",
            "\n",
            "[68127 rows x 5 columns]\n"
          ]
        }
      ],
      "source": [
        "scaler = StandardScaler()\n",
        "train_scaled=pd.DataFrame(scaler.fit_transform(X_train)) # Scaling the train set\n",
        "test_scaled=pd.DataFrame(scaler.transform(X_test)) # Scaling the test set\n",
        "\n",
        "print(X_train)"
      ]
    },
    {
      "cell_type": "code",
      "execution_count": null,
      "metadata": {
        "id": "4vDKB2eomU0K",
        "colab": {
          "base_uri": "https://localhost:8080/"
        },
        "outputId": "dd580998-b1b0-4686-c24a-783cbb09da58"
      },
      "outputs": [
        {
          "output_type": "stream",
          "name": "stdout",
          "text": [
            "        est_diameter_min  est_diameter_max  relative_velocity  miss_distance  \\\n",
            "36846          -3.492939         -2.585522         111.154610   2.418873e+07   \n",
            "85172          -1.943736         -1.087836         153.022332   3.499005e+07   \n",
            "162946         -2.304349         -1.436458         177.049523   6.795938e+07   \n",
            "144786         -0.828778         -0.009954         158.672541   2.224026e+06   \n",
            "9278           -3.334962         -2.432799         122.539184   4.134225e+07   \n",
            "...                  ...               ...                ...            ...   \n",
            "113899         -1.089623         -0.262125         157.708155   6.192646e+07   \n",
            "72564          -2.143764         -1.281212         167.347775   4.084055e+07   \n",
            "77459          -3.230153         -2.331475         110.751853   1.973904e+07   \n",
            "87293          -2.123691         -1.261807         169.216691   5.116298e+07   \n",
            "160311         -1.833060         -0.980841         156.637930   4.175145e+07   \n",
            "\n",
            "        absolute_magnitude  \n",
            "36846            57.875773  \n",
            "85172            48.040969  \n",
            "162946           50.336857  \n",
            "144786           40.931337  \n",
            "9278             56.876884  \n",
            "...                    ...  \n",
            "113899           42.595184  \n",
            "72564            49.314836  \n",
            "77459            56.213585  \n",
            "87293            49.187044  \n",
            "160311           47.335741  \n",
            "\n",
            "[122994 rows x 5 columns]\n"
          ]
        }
      ],
      "source": [
        "scaler = StandardScaler()\n",
        "train_scaled_upsampled = pd.DataFrame(scaler.fit_transform(X_train_upsampled)) # Scaling the train set\n",
        "test_scaled_upsampled = pd.DataFrame(scaler.transform(X_test_upsampled)) # Scaling the test set\n",
        "\n",
        "print(X_train_upsampled)"
      ]
    },
    {
      "cell_type": "markdown",
      "metadata": {
        "id": "LYiK-kLg4ezV"
      },
      "source": [
        "# ***Apply ML Models***"
      ]
    },
    {
      "cell_type": "code",
      "execution_count": null,
      "metadata": {
        "id": "e5KOLDes0ydQ"
      },
      "outputs": [],
      "source": [
        "def printOutcome(outcomes):\n",
        "  print('Accuracy of predictions on Train set:',round(outcomes[0][0]*100,2),'%')\n",
        "  print('Accuracy of predictions on Test set:',round(outcomes[0][1]*100,2),'%')\n",
        "  print()\n",
        "\n",
        "  print('Precision of predictions on Train set:',round(outcomes[1][0]*100,2),'%')\n",
        "  print('Precision of predictions on Test set:',round(outcomes[1][1]*100,2),'%')\n",
        "  print()\n",
        "\n",
        "  print('Recall of predictions on Train set:',round(outcomes[2][0]*100,2),'%')\n",
        "  print('Recall of predictions on Test set:',round(outcomes[2][1]*100,2),'%')\n",
        "  print()\n",
        "\n",
        "  print('f1 score of predictions on Train set:',round(outcomes[3][0]*100,2),'%')\n",
        "  print('f1 score of predictions on Test set:',round(outcomes[3][1]*100,2),'%')\n",
        "  print()"
      ]
    },
    {
      "cell_type": "code",
      "execution_count": null,
      "metadata": {
        "id": "MLEAbgnD0y-h"
      },
      "outputs": [],
      "source": [
        "outcomeData = []\n",
        "def outcomeCalc(predict_train, predict_test, Y_train, Y_test):\n",
        "  modelOutcome = []\n",
        "\n",
        "  # Accuracy Calculation\n",
        "  acc_train=accuracy_score(Y_train,predict_train)\n",
        "  acc_test=accuracy_score(Y_test,predict_test)\n",
        "  modelOutcome.append([acc_train,acc_test])\n",
        "\n",
        "  # Precision Calculation\n",
        "  precision_train=precision_score(Y_train,predict_train)\n",
        "  precision_test=precision_score(Y_test,predict_test)\n",
        "  modelOutcome.append([precision_train,precision_test])\n",
        "\n",
        "  #Recall Calculation\n",
        "  recall_train=recall_score(Y_train,predict_train)\n",
        "  recall_test=recall_score(Y_test,predict_test)\n",
        "  modelOutcome.append([recall_train,recall_test])\n",
        "\n",
        "  # f1 Calculation\n",
        "  f1_train=f1_score(Y_train,predict_train)\n",
        "  f1_test=f1_score(Y_test,predict_test)\n",
        "  modelOutcome.append([f1_train,f1_test])\n",
        "\n",
        "  if modelOutcome not in outcomeData:\n",
        "    outcomeData.append(modelOutcome)\n",
        "  printOutcome(modelOutcome)"
      ]
    },
    {
      "cell_type": "code",
      "execution_count": null,
      "metadata": {
        "id": "FaMqSxYh0zmg"
      },
      "outputs": [],
      "source": [
        "def confusionMatrix(predict_test, Y_test):\n",
        "  # Calculate the confusion matrix\n",
        "  conf_matrix = confusion_matrix(y_true=Y_test, y_pred=predict_test)\n",
        "\n",
        "  #Print confusion matrix\n",
        "  fig, ax = plt.subplots(figsize=(5, 5))\n",
        "  ax.matshow(conf_matrix, cmap=plt.cm.Oranges, alpha=0.3)\n",
        "  for i in range(conf_matrix.shape[0]):\n",
        "      for j in range(conf_matrix.shape[1]):\n",
        "          ax.text(x=j, y=i,s=conf_matrix[i, j], va='center', ha='center', size='xx-large')\n",
        "\n",
        "  plt.xlabel('Predictions', fontsize=18)\n",
        "  plt.ylabel('Actuals', fontsize=18)\n",
        "  plt.title('Confusion Matrix', fontsize=18)\n",
        "  plt.show()"
      ]
    },
    {
      "cell_type": "markdown",
      "metadata": {
        "id": "CkYO9_2J4k-n"
      },
      "source": [
        "## AdaBoost Classifier"
      ]
    },
    {
      "cell_type": "markdown",
      "metadata": {
        "id": "gDFax8mS9nLC"
      },
      "source": [
        "### Before Resample"
      ]
    },
    {
      "cell_type": "code",
      "execution_count": null,
      "metadata": {
        "id": "fGGFXZE84pOW",
        "colab": {
          "base_uri": "https://localhost:8080/"
        },
        "outputId": "16b2f228-f48f-4caf-9131-2b52f43681e9"
      },
      "outputs": [
        {
          "output_type": "stream",
          "name": "stdout",
          "text": [
            "Accuracy of predictions on Train set: 90.95 %\n",
            "Accuracy of predictions on Test set: 90.94 %\n",
            "\n",
            "Precision of predictions on Train set: 71.83 %\n",
            "Precision of predictions on Test set: 72.75 %\n",
            "\n",
            "Recall of predictions on Train set: 11.46 %\n",
            "Recall of predictions on Test set: 11.0 %\n",
            "\n",
            "f1 score of predictions on Train set: 19.77 %\n",
            "f1 score of predictions on Test set: 19.1 %\n",
            "\n"
          ]
        },
        {
          "output_type": "display_data",
          "data": {
            "text/plain": [
              "<Figure size 360x360 with 1 Axes>"
            ],
            "image/png": "[encoded data removed]"
          },
          "metadata": {}
        }
      ],
      "source": [
        "ADA_Model=AdaBoostClassifier(n_estimators=50, random_state=0) # Machine Instance\n",
        "ADA_Model.fit(train_scaled,y_train)# Training the model\n",
        "\n",
        "# Predictions made\n",
        "predict_train=ADA_Model.predict(train_scaled)\n",
        "predict_test=ADA_Model.predict(test_scaled)\n",
        "\n",
        "#Generate Outcomes\n",
        "outcomeCalc(predict_train, predict_test, y_train, y_test)\n",
        "\n",
        "#Confusion Matrix\n",
        "confusionMatrix(predict_test, y_test)"
      ]
    },
    {
      "cell_type": "markdown",
      "metadata": {
        "id": "wMVSPNCp9sNH"
      },
      "source": [
        "### After Resample"
      ]
    },
    {
      "cell_type": "code",
      "execution_count": null,
      "metadata": {
        "id": "iBsnJ4bC9vHZ",
        "colab": {
          "base_uri": "https://localhost:8080/"
        },
        "outputId": "0a3148cc-418c-405e-e404-a388091798a4"
      },
      "outputs": [
        {
          "output_type": "stream",
          "name": "stdout",
          "text": [
            "Accuracy of predictions on Train set: 86.53 %\n",
            "Accuracy of predictions on Test set: 86.55 %\n",
            "\n",
            "Precision of predictions on Train set: 81.53 %\n",
            "Precision of predictions on Test set: 81.67 %\n",
            "\n",
            "Recall of predictions on Train set: 94.44 %\n",
            "Recall of predictions on Test set: 94.26 %\n",
            "\n",
            "f1 score of predictions on Train set: 87.51 %\n",
            "f1 score of predictions on Test set: 87.52 %\n",
            "\n"
          ]
        },
        {
          "output_type": "display_data",
          "data": {
            "text/plain": [
              "<Figure size 360x360 with 1 Axes>"
            ],
            "image/png": "[encoded data removed]"
          },
          "metadata": {}
        }
      ],
      "source": [
        "ADA_Model=AdaBoostClassifier(n_estimators=50, random_state=0) # Machine Instance\n",
        "ADA_Model.fit(train_scaled_upsampled,y_train_upsampled)# Training the model\n",
        "\n",
        "# Predictions made\n",
        "predict_train=ADA_Model.predict(train_scaled_upsampled)\n",
        "predict_test=ADA_Model.predict(test_scaled_upsampled)\n",
        "\n",
        "#Generate Outcomes\n",
        "outcomeCalc(predict_train, predict_test, y_train_upsampled, y_test_upsampled)\n",
        "\n",
        "#Confusion Matrix\n",
        "confusionMatrix(predict_test, y_test_upsampled)"
      ]
    },
    {
      "cell_type": "markdown",
      "metadata": {
        "id": "G1zye8sJ5gpn"
      },
      "source": [
        "## Random Forest"
      ]
    },
    {
      "cell_type": "markdown",
      "metadata": {
        "id": "H9JWf6bH_H-r"
      },
      "source": [
        "### Before Resample"
      ]
    },
    {
      "cell_type": "code",
      "execution_count": null,
      "metadata": {
        "id": "ie5jm0ID5nam",
        "colab": {
          "base_uri": "https://localhost:8080/"
        },
        "outputId": "11b89ad7-3a62-487d-8b6f-c87cab0d61d6"
      },
      "outputs": [
        {
          "output_type": "stream",
          "name": "stdout",
          "text": [
            "Accuracy of predictions on Train set: 99.97 %\n",
            "Accuracy of predictions on Test set: 91.37 %\n",
            "\n",
            "Precision of predictions on Train set: 100.0 %\n",
            "Precision of predictions on Test set: 59.17 %\n",
            "\n",
            "Recall of predictions on Train set: 99.7 %\n",
            "Recall of predictions on Test set: 36.65 %\n",
            "\n",
            "f1 score of predictions on Train set: 99.85 %\n",
            "f1 score of predictions on Test set: 45.26 %\n",
            "\n"
          ]
        },
        {
          "output_type": "display_data",
          "data": {
            "text/plain": [
              "<Figure size 360x360 with 1 Axes>"
            ],
            "image/png": "[encoded data removed]"
          },
          "metadata": {}
        }
      ],
      "source": [
        "RF_Model = RandomForestClassifier(n_estimators = 50)  # Machine Instance\n",
        "RF_Model.fit(train_scaled,y_train) # Training the model\n",
        "\n",
        "# Predictions made\n",
        "predict_train=RF_Model.predict(train_scaled)\n",
        "predict_test=RF_Model.predict(test_scaled)\n",
        "\n",
        "#Generate Outcomes\n",
        "outcomeCalc(predict_train, predict_test, y_train, y_test)\n",
        "\n",
        "#Confusion Matrix\n",
        "confusionMatrix(predict_test, y_test)"
      ]
    },
    {
      "cell_type": "markdown",
      "metadata": {
        "id": "dkdVxrSc_Zqx"
      },
      "source": [
        "### After Resample"
      ]
    },
    {
      "cell_type": "code",
      "execution_count": null,
      "metadata": {
        "id": "_w9x6kU3_bzj",
        "colab": {
          "base_uri": "https://localhost:8080/"
        },
        "outputId": "579ac5d2-29d2-4f34-8ffb-13b3ffbb9264"
      },
      "outputs": [
        {
          "output_type": "stream",
          "name": "stdout",
          "text": [
            "Accuracy of predictions on Train set: 99.98 %\n",
            "Accuracy of predictions on Test set: 92.81 %\n",
            "\n",
            "Precision of predictions on Train set: 99.98 %\n",
            "Precision of predictions on Test set: 93.38 %\n",
            "\n",
            "Recall of predictions on Train set: 99.97 %\n",
            "Recall of predictions on Test set: 92.15 %\n",
            "\n",
            "f1 score of predictions on Train set: 99.98 %\n",
            "f1 score of predictions on Test set: 92.76 %\n",
            "\n"
          ]
        },
        {
          "output_type": "display_data",
          "data": {
            "text/plain": [
              "<Figure size 360x360 with 1 Axes>"
            ],
            "image/png": "[encoded data removed]"
          },
          "metadata": {}
        }
      ],
      "source": [
        "RF_Model = RandomForestClassifier(n_estimators = 50)  # Machine Instance\n",
        "RF_Model.fit(train_scaled_upsampled,y_train_upsampled) # Training the model\n",
        "\n",
        "# Predictions made\n",
        "predict_train=RF_Model.predict(train_scaled_upsampled)\n",
        "predict_test=RF_Model.predict(test_scaled_upsampled)\n",
        "\n",
        "#Generate Outcomes\n",
        "outcomeCalc(predict_train, predict_test, y_train_upsampled, y_test_upsampled)\n",
        "\n",
        "#Confusion Matrix\n",
        "confusionMatrix(predict_test, y_test_upsampled)"
      ]
    },
    {
      "cell_type": "markdown",
      "metadata": {
        "id": "x0XyBoIO_9dR"
      },
      "source": [
        "## KNN"
      ]
    },
    {
      "cell_type": "markdown",
      "metadata": {
        "id": "iv4VRu-z__NC"
      },
      "source": [
        "### Before Resample"
      ]
    },
    {
      "cell_type": "code",
      "execution_count": null,
      "metadata": {
        "id": "HzWUNb7yABkD",
        "colab": {
          "base_uri": "https://localhost:8080/"
        },
        "outputId": "1aedaa9d-cf45-41c0-9dd5-d5698c301aad"
      },
      "outputs": [
        {
          "output_type": "stream",
          "name": "stdout",
          "text": [
            "Accuracy of predictions on Train set: 92.92 %\n",
            "Accuracy of predictions on Test set: 90.11 %\n",
            "\n",
            "Precision of predictions on Train set: 72.25 %\n",
            "Precision of predictions on Test set: 48.66 %\n",
            "\n",
            "Recall of predictions on Train set: 44.21 %\n",
            "Recall of predictions on Test set: 28.73 %\n",
            "\n",
            "f1 score of predictions on Train set: 54.85 %\n",
            "f1 score of predictions on Test set: 36.13 %\n",
            "\n"
          ]
        },
        {
          "output_type": "display_data",
          "data": {
            "text/plain": [
              "<Figure size 360x360 with 1 Axes>"
            ],
            "image/png": "[encoded data removed]"
          },
          "metadata": {}
        }
      ],
      "source": [
        "KNN_Model=KNeighborsClassifier() # Machine Instance\n",
        "KNN_Model.fit(train_scaled,y_train) # Traing the model\n",
        "\n",
        "# Predictions made\n",
        "predict_train=KNN_Model.predict(train_scaled)\n",
        "predict_test=KNN_Model.predict(test_scaled)\n",
        "\n",
        "#Generate Outcomes\n",
        "outcomeCalc(predict_train, predict_test, y_train, y_test)\n",
        "\n",
        "#Confusion Matrix\n",
        "confusionMatrix(predict_test, y_test)"
      ]
    },
    {
      "cell_type": "markdown",
      "metadata": {
        "id": "jYvkUcG-AP7x"
      },
      "source": [
        "### After Resample"
      ]
    },
    {
      "cell_type": "code",
      "execution_count": null,
      "metadata": {
        "id": "M7ilVeBIASjp",
        "colab": {
          "base_uri": "https://localhost:8080/"
        },
        "outputId": "bfb43888-7a23-43eb-c6fd-6164124e297c"
      },
      "outputs": [
        {
          "output_type": "stream",
          "name": "stdout",
          "text": [
            "Accuracy of predictions on Train set: 88.85 %\n",
            "Accuracy of predictions on Test set: 85.67 %\n",
            "\n",
            "Precision of predictions on Train set: 85.35 %\n",
            "Precision of predictions on Test set: 82.33 %\n",
            "\n",
            "Recall of predictions on Train set: 93.81 %\n",
            "Recall of predictions on Test set: 90.85 %\n",
            "\n",
            "f1 score of predictions on Train set: 89.38 %\n",
            "f1 score of predictions on Test set: 86.38 %\n",
            "\n"
          ]
        },
        {
          "output_type": "display_data",
          "data": {
            "text/plain": [
              "<Figure size 360x360 with 1 Axes>"
            ],
            "image/png": "[encoded data removed]"
          },
          "metadata": {}
        }
      ],
      "source": [
        "KNN_Model=KNeighborsClassifier() # Machine Instance\n",
        "KNN_Model.fit(train_scaled_upsampled,y_train_upsampled) # Traing the model\n",
        "\n",
        "# Predictions made\n",
        "predict_train=KNN_Model.predict(train_scaled_upsampled)\n",
        "predict_test=KNN_Model.predict(test_scaled_upsampled)\n",
        "\n",
        "#Generate Outcomes\n",
        "outcomeCalc(predict_train, predict_test, y_train_upsampled, y_test_upsampled)\n",
        "\n",
        "#Confusion Matrix\n",
        "confusionMatrix(predict_test, y_test_upsampled)"
      ]
    },
    {
      "cell_type": "markdown",
      "metadata": {
        "id": "HOm0OQroB-V8"
      },
      "source": [
        "## Gaussian Naive Bayes"
      ]
    },
    {
      "cell_type": "markdown",
      "metadata": {
        "id": "C5PPk6RcB_9p"
      },
      "source": [
        "### Before Resample"
      ]
    },
    {
      "cell_type": "code",
      "execution_count": null,
      "metadata": {
        "id": "DQrb4NS3CCUl",
        "colab": {
          "base_uri": "https://localhost:8080/"
        },
        "outputId": "c4cc2886-7996-419c-d72f-9107e677098c"
      },
      "outputs": [
        {
          "output_type": "stream",
          "name": "stdout",
          "text": [
            "Accuracy of predictions on Train set: 79.11 %\n",
            "Accuracy of predictions on Test set: 79.42 %\n",
            "\n",
            "Precision of predictions on Train set: 29.95 %\n",
            "Precision of predictions on Test set: 30.41 %\n",
            "\n",
            "Recall of predictions on Train set: 85.67 %\n",
            "Recall of predictions on Test set: 86.52 %\n",
            "\n",
            "f1 score of predictions on Train set: 44.39 %\n",
            "f1 score of predictions on Test set: 45.0 %\n",
            "\n"
          ]
        },
        {
          "output_type": "display_data",
          "data": {
            "text/plain": [
              "<Figure size 360x360 with 1 Axes>"
            ],
            "image/png": "[encoded data removed]"
          },
          "metadata": {}
        }
      ],
      "source": [
        "NB_Model=GaussianNB() # Machine Instance\n",
        "NB_Model.fit(train_scaled,y_train) # Traing the model\n",
        "\n",
        "# Predictions made\n",
        "predict_train=NB_Model.predict(train_scaled)\n",
        "predict_test=NB_Model.predict(test_scaled)\n",
        "\n",
        "#Generate Outcomes\n",
        "outcomeCalc(predict_train, predict_test, y_train, y_test)\n",
        "\n",
        "#Confusion Matrix\n",
        "confusionMatrix(predict_test, y_test)"
      ]
    },
    {
      "cell_type": "markdown",
      "metadata": {
        "id": "9_W-gev2CsUz"
      },
      "source": [
        "### After Resample"
      ]
    },
    {
      "cell_type": "code",
      "execution_count": null,
      "metadata": {
        "id": "Tn2Sw5brCvFO",
        "colab": {
          "base_uri": "https://localhost:8080/"
        },
        "outputId": "2e68e2eb-a754-483d-ca3c-27023a56455d"
      },
      "outputs": [
        {
          "output_type": "stream",
          "name": "stdout",
          "text": [
            "Accuracy of predictions on Train set: 85.14 %\n",
            "Accuracy of predictions on Test set: 85.13 %\n",
            "\n",
            "Precision of predictions on Train set: 78.65 %\n",
            "Precision of predictions on Test set: 78.66 %\n",
            "\n",
            "Recall of predictions on Train set: 96.47 %\n",
            "Recall of predictions on Test set: 96.41 %\n",
            "\n",
            "f1 score of predictions on Train set: 86.65 %\n",
            "f1 score of predictions on Test set: 86.63 %\n",
            "\n"
          ]
        },
        {
          "output_type": "display_data",
          "data": {
            "text/plain": [
              "<Figure size 360x360 with 1 Axes>"
            ],
            "image/png": "[encoded data removed]"
          },
          "metadata": {}
        }
      ],
      "source": [
        "NB_Model=GaussianNB() # Machine Instance\n",
        "NB_Model.fit(train_scaled_upsampled,y_train_upsampled) # Traing the model\n",
        "\n",
        "# Predictions made\n",
        "predict_train=NB_Model.predict(train_scaled_upsampled)\n",
        "predict_test=NB_Model.predict(test_scaled_upsampled)\n",
        "\n",
        "#Generate Outcomes\n",
        "outcomeCalc(predict_train, predict_test, y_train_upsampled, y_test_upsampled)\n",
        "\n",
        "#Confusion Matrix\n",
        "confusionMatrix(predict_test, y_test_upsampled)"
      ]
    },
    {
      "cell_type": "markdown",
      "metadata": {
        "id": "iOPd7DabkrVY"
      },
      "source": [
        "# ***Performance Visualization***"
      ]
    },
    {
      "cell_type": "code",
      "execution_count": null,
      "metadata": {
        "id": "z--m4bHNlEB0",
        "colab": {
          "base_uri": "https://localhost:8080/",
          "height": 319
        },
        "outputId": "45393f05-8150-4583-cdc3-ed0b768ba555"
      },
      "outputs": [
        {
          "output_type": "display_data",
          "data": {
            "text/plain": [
              "<Figure size 864x360 with 4 Axes>"
            ],
            "image/png": "[encoded data removed]"
          },
          "metadata": {}
        }
      ],
      "source": [
        "fig, ax = plt.subplots(2,2)\n",
        "plt.rcParams['figure.figsize']=[12,5]\n",
        "plt.subplots_adjust(wspace = 0.3, hspace = 0.2)\n",
        "title = ['AdaBoost', 'Random Forest', 'KNN', 'Naive Bayes']\n",
        "counter = 0\n",
        "data = []\n",
        "\n",
        "for lst in range(0,len(outcomeData),2):\n",
        "  temp = []\n",
        "  for item in range(4):\n",
        "    temp.append([outcomeData[lst][item][1], outcomeData[lst+1][item][1]])\n",
        "  data.append(temp)\n",
        "\n",
        "for j in range(2):\n",
        "  for k in range(2):\n",
        "    colNames = [i for i in ['Before Resample', 'After Resample']]\n",
        "    rowNames = [i for i in ['Accuracy', 'Precision', 'Recall', 'f1']]\n",
        "    cellValues = [[str(round(c*100,2))+'%' for c in r] for r in data[counter]]\n",
        "\n",
        "    ax[j,k].set_axis_off()\n",
        "    ax[j,k].axis('tight')\n",
        "    table = ax[j,k].table(\n",
        "        cellText = cellValues,\n",
        "        rowLabels = rowNames,\n",
        "        colLabels = colNames,\n",
        "        rowColours =[\"silver\"] * 4,\n",
        "        colColours =[\"silver\"] * 2,\n",
        "        cellLoc ='center',\n",
        "        loc ='upper left')\n",
        "    table.scale(1, 2)\n",
        "    ax[j,k].set_title(title[counter],\n",
        "                fontweight =\"bold\")\n",
        "    counter += 1\n",
        "\n",
        "plt.show()"
      ]
    },
    {
      "cell_type": "code",
      "execution_count": null,
      "metadata": {
        "id": "iLoS5mSroX0U",
        "colab": {
          "base_uri": "https://localhost:8080/",
          "height": 719
        },
        "outputId": "90eca777-7339-4d3c-ea22-0a23cb4b0c8a"
      },
      "outputs": [
        {
          "output_type": "display_data",
          "data": {
            "text/plain": [
              "<Figure size 1440x864 with 4 Axes>"
            ],
            "image/png": "[encoded data removed]"
          },
          "metadata": {}
        }
      ],
      "source": [
        "dataBarBefore = []\n",
        "dataBarAfter = []\n",
        "\n",
        "for i in range(4):\n",
        "  temp1 = []\n",
        "  temp2 = []\n",
        "  for j in range(4):\n",
        "    temp1.append(data[j][i][0])\n",
        "    temp2.append(data[j][i][1])\n",
        "  dataBarBefore.append(temp1)\n",
        "  dataBarAfter.append(temp2)\n",
        "\n",
        "\n",
        "models = ['AdaBoost', 'Random Forest', 'KNN', 'Naive Bayes']\n",
        "outcomeLabel = ['Accuracy', 'Precision', 'Recall', 'f1']\n",
        "fig, ax = plt.subplots(2,2)\n",
        "plt.rcParams['figure.figsize']=[20,12]\n",
        "plt.subplots_adjust(wspace = 0.3, hspace = 0.3)\n",
        "counter = 0\n",
        "\n",
        "for i in range(2):\n",
        "  for j in range(2):\n",
        "    x = np.arange(len(models))  # the label locations\n",
        "    width = 0.2  # the width of the bars\n",
        "\n",
        "    rects1 = ax[i,j].bar(x - width/2, dataBarBefore[counter], width, label='Before-resample')\n",
        "    rects2 = ax[i,j].bar(x + width/2, dataBarAfter[counter], width, label='After-resample')\n",
        "\n",
        "    ax[i,j].set_ylabel(outcomeLabel[counter])\n",
        "    ax[i,j].set_title(outcomeLabel[counter] + \" of the Models\")\n",
        "    ax[i,j].set_xticks(x)\n",
        "    ax[i,j].set_xticklabels(models)\n",
        "    ax[i,j].legend()\n",
        "    counter += 1\n",
        "\n",
        "plt.show()"
      ]
    }
  ],
  "metadata": {
    "colab": {
      "collapsed_sections": [
        "U5f2Q8JEozdD",
        "kBrgmmWdnWBT",
        "H-PQpjM1vgFT",
        "dyilFk2oze3E",
        "2rQDo3sZ2GHy",
        "c4CMWt_WPwEO",
        "VQ3NsR2UpN7L",
        "_n7h14is0Sil",
        "LYiK-kLg4ezV",
        "iOPd7DabkrVY"
      ],
      "provenance": []
    },
    "kernelspec": {
      "display_name": "Python 3",
      "name": "python3"
    },
    "language_info": {
      "name": "python"
    }
  },
  "nbformat": 4,
  "nbformat_minor": 0
}